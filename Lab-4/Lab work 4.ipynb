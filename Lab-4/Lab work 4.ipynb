{
 "cells":[
  {
   "cell_type":"markdown",
   "source":[
    "___\n",
    "\n",
    "<a href='https:\/\/mainacademy.ua\/'> <img src='https:\/\/mainacademy.ua\/wp-content\/uploads\/2019\/03\/logo-main.png' alt = 'Хмм, щось з інтернетом'\/><\/a>\n",
    "___\n",
    "\n",
    "# Module 4: Work with data professionally!"
   ],
   "attachments":{
    
   },
   "metadata":{
    "datalore":{
     "node_id":"4YkXpNRFrcSCCbQJsAQS1U",
     "type":"MD",
     "hide_input_from_viewers":false,
     "hide_output_from_viewers":false,
     "report_properties":{
      "rowId":"xtC6ulSU79gd8PKGjS9dUU"
     }
    }
   }
  },
  {
   "cell_type":"markdown",
   "source":[
    "## Lab work 4\n"
   ],
   "attachments":{
    
   },
   "metadata":{
    "datalore":{
     "node_id":"2GjZ0DLmJtXbO5SIr60v2I",
     "type":"MD",
     "hide_input_from_viewers":false,
     "hide_output_from_viewers":false,
     "report_properties":{
      "rowId":"xtC6ulSU79gd8PKGjS9dUU"
     }
    }
   }
  },
  {
   "cell_type":"markdown",
   "source":[
    "#### Мета: \n",
    "\n",
    "* навчитися обробляти дані\n",
    "* \"парсити\" сайти"
   ],
   "attachments":{
    
   },
   "metadata":{
    "datalore":{
     "node_id":"1oAfpDaKdnwxleA11DubxJ",
     "type":"MD",
     "hide_input_from_viewers":false,
     "hide_output_from_viewers":false,
     "report_properties":{
      "rowId":"xtC6ulSU79gd8PKGjS9dUU"
     }
    }
   }
  },
  {
   "cell_type":"markdown",
   "source":[
    "### Завдання 1:"
   ],
   "attachments":{
    
   },
   "metadata":{
    "datalore":{
     "node_id":"rW3r8gFRKrgOsdWBCcxoQd",
     "type":"MD",
     "hide_input_from_viewers":false,
     "hide_output_from_viewers":false,
     "report_properties":{
      "rowId":"xtC6ulSU79gd8PKGjS9dUU"
     }
    }
   }
  },
  {
   "cell_type":"markdown",
   "source":[
    "#### Ознайомитися із API Національного банку \n",
    "https:\/\/old.bank.gov.ua\/control\/uk\/publish\/article?art_id=38441973&cat_id=38459171#exchange\n"
   ],
   "attachments":{
    
   },
   "metadata":{
    "datalore":{
     "node_id":"ACCTKBDvCGhufEGo8ouFxD",
     "type":"MD",
     "hide_input_from_viewers":false,
     "hide_output_from_viewers":false,
     "report_properties":{
      "rowId":"xtC6ulSU79gd8PKGjS9dUU"
     }
    }
   }
  },
  {
   "cell_type":"markdown",
   "source":[
    "1. Підключитися до API."
   ],
   "attachments":{
    
   },
   "metadata":{
    "datalore":{
     "node_id":"NK9cmMQtSVXIsMIYTcERKp",
     "type":"MD",
     "hide_input_from_viewers":false,
     "hide_output_from_viewers":false,
     "report_properties":{
      "rowId":"xtC6ulSU79gd8PKGjS9dUU"
     }
    }
   }
  },
  {
   "cell_type":"code",
   "source":[
    "import requests\n",
    "params = {\n",
    "    'valcode':'USD',\n",
    "    'date': '20230311',\n",
    "    'json':'json'\n",
    "}\n",
    "r = requests.get('https:\/\/bank.gov.ua\/NBUStatService\/v1\/statdirectory\/exchange', params = params).json()\n",
    "r"
   ],
   "execution_count":3,
   "outputs":[
    {
     "data":{
      "text\/plain":[
       "[{'r030': 840,\n",
       "  'txt': 'Долар США',\n",
       "  'rate': 36.5686,\n",
       "  'cc': 'USD',\n",
       "  'exchangedate': '11.03.2023'}]"
      ]
     },
     "metadata":{
      
     },
     "output_type":"display_data"
    }
   ],
   "metadata":{
    "datalore":{
     "node_id":"dXsNSupB3qAIExw12awXVA",
     "type":"CODE",
     "hide_input_from_viewers":false,
     "hide_output_from_viewers":false,
     "report_properties":{
      "rowId":"xtC6ulSU79gd8PKGjS9dUU"
     }
    }
   }
  },
  {
   "cell_type":"markdown",
   "source":[
    "2. Отримати курс долара за останній рік."
   ],
   "attachments":{
    
   },
   "metadata":{
    "datalore":{
     "node_id":"VqZIvFAh7H1ZksNwbd5L14",
     "type":"MD",
     "hide_input_from_viewers":false,
     "hide_output_from_viewers":false,
     "report_properties":{
      "rowId":"xtC6ulSU79gd8PKGjS9dUU"
     }
    }
   }
  },
  {
   "cell_type":"code",
   "source":[
    "import datetime\n",
    "from datetime import date, timedelta\n",
    "exchangeData = []\n",
    "day = 365\n",
    "\n",
    "while day >= 0:\n",
    "    today = date.today() - timedelta(days=day)\n",
    "    params = {\n",
    "        'valcode':'USD',\n",
    "        'date': today.strftime(\"%Y%m%d\"),\n",
    "        'json':'json'\n",
    "    }\n",
    "    r = requests.get('https:\/\/bank.gov.ua\/NBUStatService\/v1\/statdirectory\/exchange', params = params).json()\n",
    "    exchangeData.append(r)\n",
    "    day -= 1\n",
    "\n",
    "print(exchangeData)"
   ],
   "execution_count":176,
   "outputs":[
    {
     "name":"stdout",
     "text":[
      "[[{'r030': 840, 'txt': 'Долар США', 'rate': 29.2549, 'cc': 'USD', 'exchangedate': '26.03.2022'}], [{'r030': 840, 'txt': 'Долар США', 'rate': 29.2549, 'cc': 'USD', 'exchangedate': '27.03.2022'}], [{'r030': 840, 'txt': 'Долар США', 'rate': 29.2549, 'cc': 'USD', 'exchangedate': '28.03.2022'}], [{'r030': 840, 'txt': 'Долар США', 'rate': 29.2549, 'cc': 'USD', 'exchangedate': '29.03.2022'}], [{'r030': 840, 'txt': 'Долар США', 'rate': 29.2549, 'cc': 'USD', 'exchangedate': '30.03.2022'}], [{'r030': 840, 'txt': 'Долар США', 'rate': 29.2549, 'cc': 'USD', 'exchangedate': '31.03.2022'}], [{'r030': 840, 'txt': 'Долар США', 'rate': 29.2549, 'cc': 'USD', 'exchangedate': '01.04.2022'}], [{'r030': 840, 'txt': 'Долар США', 'rate': 29.2549, 'cc': 'USD', 'exchangedate': '02.04.2022'}], [{'r030': 840, 'txt': 'Долар США', 'rate': 29.2549, 'cc': 'USD', 'exchangedate': '03.04.2022'}], [{'r030': 840, 'txt': 'Долар США', 'rate': 29.2549, 'cc': 'USD', 'exchangedate': '04.04.2022'}], [{'r030': 840, 'txt': 'Долар США', 'rate': 29.2549, 'cc': 'USD', 'exchangedate': '05.04.2022'}], [{'r030': 840, 'txt': 'Долар США', 'rate': 29.2549, 'cc': 'USD', 'exchangedate': '06.04.2022'}], [{'r030': 840, 'txt': 'Долар США', 'rate': 29.2549, 'cc': 'USD', 'exchangedate': '07.04.2022'}], [{'r030': 840, 'txt': 'Долар США', 'rate': 29.2549, 'cc': 'USD', 'exchangedate': '08.04.2022'}], [{'r030': 840, 'txt': 'Долар США', 'rate': 29.2549, 'cc': 'USD', 'exchangedate': '09.04.2022'}], [{'r030': 840, 'txt': 'Долар США', 'rate': 29.2549, 'cc': 'USD', 'exchangedate': '10.04.2022'}], [{'r030': 840, 'txt': 'Долар США', 'rate': 29.2549, 'cc': 'USD', 'exchangedate': '11.04.2022'}], [{'r030': 840, 'txt': 'Долар США', 'rate': 29.2549, 'cc': 'USD', 'exchangedate': '12.04.2022'}], [{'r030': 840, 'txt': 'Долар США', 'rate': 29.2549, 'cc': 'USD', 'exchangedate': '13.04.2022'}], [{'r030': 840, 'txt': 'Долар США', 'rate': 29.2549, 'cc': 'USD', 'exchangedate': '14.04.2022'}], [{'r030': 840, 'txt': 'Долар США', 'rate': 29.2549, 'cc': 'USD', 'exchangedate': '15.04.2022'}], [{'r030': 840, 'txt': 'Долар США', 'rate': 29.2549, 'cc': 'USD', 'exchangedate': '16.04.2022'}], [{'r030': 840, 'txt': 'Долар США', 'rate': 29.2549, 'cc': 'USD', 'exchangedate': '17.04.2022'}], [{'r030': 840, 'txt': 'Долар США', 'rate': 29.2549, 'cc': 'USD', 'exchangedate': '18.04.2022'}], [{'r030': 840, 'txt': 'Долар США', 'rate': 29.2549, 'cc': 'USD', 'exchangedate': '19.04.2022'}], [{'r030': 840, 'txt': 'Долар США', 'rate': 29.2549, 'cc': 'USD', 'exchangedate': '20.04.2022'}], [{'r030': 840, 'txt': 'Долар США', 'rate': 29.2549, 'cc': 'USD', 'exchangedate': '21.04.2022'}], [{'r030': 840, 'txt': 'Долар США', 'rate': 29.2549, 'cc': 'USD', 'exchangedate': '22.04.2022'}], [{'r030': 840, 'txt': 'Долар США', 'rate': 29.2549, 'cc': 'USD', 'exchangedate': '23.04.2022'}], [{'r030': 840, 'txt': 'Долар США', 'rate': 29.2549, 'cc': 'USD', 'exchangedate': '24.04.2022'}], [{'r030': 840, 'txt': 'Долар США', 'rate': 29.2549, 'cc': 'USD', 'exchangedate': '25.04.2022'}], [{'r030': 840, 'txt': 'Долар США', 'rate': 29.2549, 'cc': 'USD', 'exchangedate': '26.04.2022'}], [{'r030': 840, 'txt': 'Долар США', 'rate': 29.2549, 'cc': 'USD', 'exchangedate': '27.04.2022'}], [{'r030': 840, 'txt': 'Долар США', 'rate': 29.2549, 'cc': 'USD', 'exchangedate': '28.04.2022'}], [{'r030': 840, 'txt': 'Долар США', 'rate': 29.2549, 'cc': 'USD', 'exchangedate': '29.04.2022'}], [{'r030': 840, 'txt': 'Долар США', 'rate': 29.2549, 'cc': 'USD', 'exchangedate': '30.04.2022'}], [{'r030': 840, 'txt': 'Долар США', 'rate': 29.2549, 'cc': 'USD', 'exchangedate': '01.05.2022'}], [{'r030': 840, 'txt': 'Долар США', 'rate': 29.2549, 'cc': 'USD', 'exchangedate': '02.05.2022'}], [{'r030': 840, 'txt': 'Долар США', 'rate': 29.2549, 'cc': 'USD', 'exchangedate': '03.05.2022'}], [{'r030': 840, 'txt': 'Долар США', 'rate': 29.2549, 'cc': 'USD', 'exchangedate': '04.05.2022'}], [{'r030': 840, 'txt': 'Долар США', 'rate': 29.2549, 'cc': 'USD', 'exchangedate': '05.05.2022'}], [{'r030': 840, 'txt': 'Долар США', 'rate': 29.2549, 'cc': 'USD', 'exchangedate': '06.05.2022'}], [{'r030': 840, 'txt': 'Долар США', 'rate': 29.2549, 'cc': 'USD', 'exchangedate': '07.05.2022'}], [{'r030': 840, 'txt': 'Долар США', 'rate': 29.2549, 'cc': 'USD', 'exchangedate': '08.05.2022'}], [{'r030': 840, 'txt': 'Долар США', 'rate': 29.2549, 'cc': 'USD', 'exchangedate': '09.05.2022'}], [{'r030': 840, 'txt': 'Долар США', 'rate': 29.2549, 'cc': 'USD', 'exchangedate': '10.05.2022'}], [{'r030': 840, 'txt': 'Долар США', 'rate': 29.2549, 'cc': 'USD', 'exchangedate': '11.05.2022'}], [{'r030': 840, 'txt': 'Долар США', 'rate': 29.2549, 'cc': 'USD', 'exchangedate': '12.05.2022'}], [{'r030': 840, 'txt': 'Долар США', 'rate': 29.2549, 'cc': 'USD', 'exchangedate': '13.05.2022'}], [{'r030': 840, 'txt': 'Долар США', 'rate': 29.2549, 'cc': 'USD', 'exchangedate': '14.05.2022'}], [{'r030': 840, 'txt': 'Долар США', 'rate': 29.2549, 'cc': 'USD', 'exchangedate': '15.05.2022'}], [{'r030': 840, 'txt': 'Долар США', 'rate': 29.2549, 'cc': 'USD', 'exchangedate': '16.05.2022'}], [{'r030': 840, 'txt': 'Долар США', 'rate': 29.2549, 'cc': 'USD', 'exchangedate': '17.05.2022'}], [{'r030': 840, 'txt': 'Долар США', 'rate': 29.2549, 'cc': 'USD', 'exchangedate': '18.05.2022'}], [{'r030': 840, 'txt': 'Долар США', 'rate': 29.2549, 'cc': 'USD', 'exchangedate': '19.05.2022'}], [{'r030': 840, 'txt': 'Долар США', 'rate': 29.2549, 'cc': 'USD', 'exchangedate': '20.05.2022'}], [{'r030': 840, 'txt': 'Долар США', 'rate': 29.2549, 'cc': 'USD', 'exchangedate': '21.05.2022'}], [{'r030': 840, 'txt': 'Долар США', 'rate': 29.2549, 'cc': 'USD', 'exchangedate': '22.05.2022'}], [{'r030': 840, 'txt': 'Долар США', 'rate': 29.2549, 'cc': 'USD', 'exchangedate': '23.05.2022'}], [{'r030': 840, 'txt': 'Долар США', 'rate': 29.2549, 'cc': 'USD', 'exchangedate': '24.05.2022'}], [{'r030': 840, 'txt': 'Долар США', 'rate': 29.2549, 'cc': 'USD', 'exchangedate': '25.05.2022'}], [{'r030': 840, 'txt': 'Долар США', 'rate': 29.2549, 'cc': 'USD', 'exchangedate': '26.05.2022'}], [{'r030': 840, 'txt': 'Долар США', 'rate': 29.2549, 'cc': 'USD', 'exchangedate': '27.05.2022'}], [{'r030': 840, 'txt': 'Долар США', 'rate': 29.2549, 'cc': 'USD', 'exchangedate': '28.05.2022'}], [{'r030': 840, 'txt': 'Долар США', 'rate': 29.2549, 'cc': 'USD', 'exchangedate': '29.05.2022'}], [{'r030': 840, 'txt': 'Долар США', 'rate': 29.2549, 'cc': 'USD', 'exchangedate': '30.05.2022'}], [{'r030': 840, 'txt': 'Долар США', 'rate': 29.2549, 'cc': 'USD', 'exchangedate': '31.05.2022'}], [{'r030': 840, 'txt': 'Долар США', 'rate': 29.2549, 'cc': 'USD', 'exchangedate': '01.06.2022'}], [{'r030': 840, 'txt': 'Долар США', 'rate': 29.2549, 'cc': 'USD', 'exchangedate': '02.06.2022'}], [{'r030': 840, 'txt': 'Долар США', 'rate': 29.2549, 'cc': 'USD', 'exchangedate': '03.06.2022'}], [{'r030': 840, 'txt': 'Долар США', 'rate': 29.2549, 'cc': 'USD', 'exchangedate': '04.06.2022'}], [{'r030': 840, 'txt': 'Долар США', 'rate': 29.2549, 'cc': 'USD', 'exchangedate': '05.06.2022'}], [{'r030': 840, 'txt': 'Долар США', 'rate': 29.2549, 'cc': 'USD', 'exchangedate': '06.06.2022'}], [{'r030': 840, 'txt': 'Долар США', 'rate': 29.2549, 'cc': 'USD', 'exchangedate': '07.06.2022'}], [{'r030': 840, 'txt': 'Долар США', 'rate': 29.2549, 'cc': 'USD', 'exchangedate': '08.06.2022'}], [{'r030': 840, 'txt': 'Долар США', 'rate': 29.2549, 'cc': 'USD', 'exchangedate': '09.06.2022'}], [{'r030': 840, 'txt': 'Долар США', 'rate': 29.2549, 'cc': 'USD', 'exchangedate': '10.06.2022'}], [{'r030': 840, 'txt': 'Долар США', 'rate': 29.2549, 'cc': 'USD', 'exchangedate': '11.06.2022'}], [{'r030': 840, 'txt': 'Долар США', 'rate': 29.2549, 'cc': 'USD', 'exchangedate': '12.06.2022'}], [{'r030': 840, 'txt': 'Долар США', 'rate': 29.2549, 'cc': 'USD', 'exchangedate': '13.06.2022'}], [{'r030': 840, 'txt': 'Долар США', 'rate': 29.2549, 'cc': 'USD', 'exchangedate': '14.06.2022'}], [{'r030': 840, 'txt': 'Долар США', 'rate': 29.2549, 'cc': 'USD', 'exchangedate': '15.06.2022'}], [{'r030': 840, 'txt': 'Долар США', 'rate': 29.2549, 'cc': 'USD', 'exchangedate': '16.06.2022'}], [{'r030': 840, 'txt': 'Долар США', 'rate': 29.2549, 'cc': 'USD', 'exchangedate': '17.06.2022'}], [{'r030': 840, 'txt': 'Долар США', 'rate': 29.2549, 'cc': 'USD', 'exchangedate': '18.06.2022'}], [{'r030': 840, 'txt': 'Долар США', 'rate': 29.2549, 'cc': 'USD', 'exchangedate': '19.06.2022'}], [{'r030': 840, 'txt': 'Долар США', 'rate': 29.2549, 'cc': 'USD', 'exchangedate': '20.06.2022'}], [{'r030': 840, 'txt': 'Долар США', 'rate': 29.2549, 'cc': 'USD', 'exchangedate': '21.06.2022'}], [{'r030': 840, 'txt': 'Долар США', 'rate': 29.2549, 'cc': 'USD', 'exchangedate': '22.06.2022'}], [{'r030': 840, 'txt': 'Долар США', 'rate': 29.2549, 'cc': 'USD', 'exchangedate': '23.06.2022'}], [{'r030': 840, 'txt': 'Долар США', 'rate': 29.2549, 'cc': 'USD', 'exchangedate': '24.06.2022'}], [{'r030': 840, 'txt': 'Долар США', 'rate': 29.2549, 'cc': 'USD', 'exchangedate': '25.06.2022'}], [{'r030': 840, 'txt': 'Долар США', 'rate': 29.2549, 'cc': 'USD', 'exchangedate': '26.06.2022'}], [{'r030': 840, 'txt': 'Долар США', 'rate': 29.2549, 'cc': 'USD', 'exchangedate': '27.06.2022'}], [{'r030': 840, 'txt': 'Долар США', 'rate': 29.2549, 'cc': 'USD', 'exchangedate': '28.06.2022'}], [{'r030': 840, 'txt': 'Долар США', 'rate': 29.2549, 'cc': 'USD', 'exchangedate': '29.06.2022'}], [{'r030': 840, 'txt': 'Долар США', 'rate': 29.2549, 'cc': 'USD', 'exchangedate': '30.06.2022'}], [{'r030': 840, 'txt': 'Долар США', 'rate': 29.2549, 'cc': 'USD', 'exchangedate': '01.07.2022'}], [{'r030': 840, 'txt': 'Долар США', 'rate': 29.2549, 'cc': 'USD', 'exchangedate': '02.07.2022'}], [{'r030': 840, 'txt': 'Долар США', 'rate': 29.2549, 'cc': 'USD', 'exchangedate': '03.07.2022'}], [{'r030': 840, 'txt': 'Долар США', 'rate': 29.2549, 'cc': 'USD', 'exchangedate': '04.07.2022'}], [{'r030': 840, 'txt': 'Долар США', 'rate': 29.2549, 'cc': 'USD', 'exchangedate': '05.07.2022'}], [{'r030': 840, 'txt': 'Долар США', 'rate': 29.2549, 'cc': 'USD', 'exchangedate': '06.07.2022'}], [{'r030': 840, 'txt': 'Долар США', 'rate': 29.2549, 'cc': 'USD', 'exchangedate': '07.07.2022'}], [{'r030': 840, 'txt': 'Долар США', 'rate': 29.2549, 'cc': 'USD', 'exchangedate': '08.07.2022'}], [{'r030': 840, 'txt': 'Долар США', 'rate': 29.2549, 'cc': 'USD', 'exchangedate': '09.07.2022'}], [{'r030': 840, 'txt': 'Долар США', 'rate': 29.2549, 'cc': 'USD', 'exchangedate': '10.07.2022'}], [{'r030': 840, 'txt': 'Долар США', 'rate': 29.2549, 'cc': 'USD', 'exchangedate': '11.07.2022'}], [{'r030': 840, 'txt': 'Долар США', 'rate': 29.2549, 'cc': 'USD', 'exchangedate': '12.07.2022'}], [{'r030': 840, 'txt': 'Долар США', 'rate': 29.2549, 'cc': 'USD', 'exchangedate': '13.07.2022'}], [{'r030': 840, 'txt': 'Долар США', 'rate': 29.2549, 'cc': 'USD', 'exchangedate': '14.07.2022'}], [{'r030': 840, 'txt': 'Долар США', 'rate': 29.2549, 'cc': 'USD', 'exchangedate': '15.07.2022'}], [{'r030': 840, 'txt': 'Долар США', 'rate': 29.2549, 'cc': 'USD', 'exchangedate': '16.07.2022'}], [{'r030': 840, 'txt': 'Долар США', 'rate': 29.2549, 'cc': 'USD', 'exchangedate': '17.07.2022'}], [{'r030': 840, 'txt': 'Долар США', 'rate': 29.2549, 'cc': 'USD', 'exchangedate': '18.07.2022'}], [{'r030': 840, 'txt': 'Долар США', 'rate': 29.2549, 'cc': 'USD', 'exchangedate': '19.07.2022'}], [{'r030': 840, 'txt': 'Долар США', 'rate': 29.2549, 'cc': 'USD', 'exchangedate': '20.07.2022'}], [{'r030': 840, 'txt': 'Долар США', 'rate': 36.5686, 'cc': 'USD', 'exchangedate': '21.07.2022'}], [{'r030': 840, 'txt': 'Долар США', 'rate': 36.5686, 'cc': 'USD', 'exchangedate': '22.07.2022'}], [{'r030': 840, 'txt': 'Долар США', 'rate': 36.5686, 'cc': 'USD', 'exchangedate': '23.07.2022'}], [{'r030': 840, 'txt': 'Долар США', 'rate': 36.5686, 'cc': 'USD', 'exchangedate': '24.07.2022'}], [{'r030': 840, 'txt': 'Долар США', 'rate': 36.5686, 'cc': 'USD', 'exchangedate': '25.07.2022'}], [{'r030': 840, 'txt': 'Долар США', 'rate': 36.5686, 'cc': 'USD', 'exchangedate': '26.07.2022'}], [{'r030': 840, 'txt': 'Долар США', 'rate': 36.5686, 'cc': 'USD', 'exchangedate': '27.07.2022'}], [{'r030': 840, 'txt': 'Долар США', 'rate': 36.5686, 'cc': 'USD', 'exchangedate': '28.07.2022'}], [{'r030': 840, 'txt': 'Долар США', 'rate': 36.5686, 'cc': 'USD', 'exchangedate': '29.07.2022'}], [{'r030': 840, 'txt': 'Долар США', 'rate': 36.5686, 'cc': 'USD', 'exchangedate': '30.07.2022'}], [{'r030': 840, 'txt': 'Долар США', 'rate': 36.5686, 'cc': 'USD', 'exchangedate': '31.07.2022'}], [{'r030': 840, 'txt': 'Долар США', 'rate': 36.5686, 'cc': 'USD', 'exchangedate': '01.08.2022'}], [{'r030': 840, 'txt': 'Долар США', 'rate': 36.5686, 'cc': 'USD', 'exchangedate': '02.08.2022'}], [{'r030': 840, 'txt': 'Долар США', 'rate': 36.5686, 'cc': 'USD', 'exchangedate': '03.08.2022'}], [{'r030': 840, 'txt': 'Долар США', 'rate': 36.5686, 'cc': 'USD', 'exchangedate': '04.08.2022'}], [{'r030': 840, 'txt': 'Долар США', 'rate': 36.5686, 'cc': 'USD', 'exchangedate': '05.08.2022'}], [{'r030': 840, 'txt': 'Долар США', 'rate': 36.5686, 'cc': 'USD', 'exchangedate': '06.08.2022'}], [{'r030': 840, 'txt': 'Долар США', 'rate': 36.5686, 'cc': 'USD', 'exchangedate': '07.08.2022'}], [{'r030': 840, 'txt': 'Долар США', 'rate': 36.5686, 'cc': 'USD', 'exchangedate': '08.08.2022'}], [{'r030': 840, 'txt': 'Долар США', 'rate': 36.5686, 'cc': 'USD', 'exchangedate': '09.08.2022'}], [{'r030': 840, 'txt': 'Долар США', 'rate': 36.5686, 'cc': 'USD', 'exchangedate': '10.08.2022'}], [{'r030': 840, 'txt': 'Долар США', 'rate': 36.5686, 'cc': 'USD', 'exchangedate': '11.08.2022'}], [{'r030': 840, 'txt': 'Долар США', 'rate': 36.5686, 'cc': 'USD', 'exchangedate': '12.08.2022'}], [{'r030': 840, 'txt': 'Долар США', 'rate': 36.5686, 'cc': 'USD', 'exchangedate': '13.08.2022'}], [{'r030': 840, 'txt': 'Долар США', 'rate': 36.5686, 'cc': 'USD', 'exchangedate': '14.08.2022'}], [{'r030': 840, 'txt': 'Долар США', 'rate': 36.5686, 'cc': 'USD', 'exchangedate': '15.08.2022'}], [{'r030': 840, 'txt': 'Долар США', 'rate': 36.5686, 'cc': 'USD', 'exchangedate': '16.08.2022'}], [{'r030': 840, 'txt': 'Долар США', 'rate': 36.5686, 'cc': 'USD', 'exchangedate': '17.08.2022'}], [{'r030': 840, 'txt': 'Долар США', 'rate': 36.5686, 'cc': 'USD', 'exchangedate': '18.08.2022'}], [{'r030': 840, 'txt': 'Долар США', 'rate': 36.5686, 'cc': 'USD', 'exchangedate': '19.08.2022'}], [{'r030': 840, 'txt': 'Долар США', 'rate': 36.5686, 'cc': 'USD', 'exchangedate': '20.08.2022'}], [{'r030': 840, 'txt': 'Долар США', 'rate': 36.5686, 'cc': 'USD', 'exchangedate': '21.08.2022'}], [{'r030': 840, 'txt': 'Долар США', 'rate': 36.5686, 'cc': 'USD', 'exchangedate': '22.08.2022'}], [{'r030': 840, 'txt': 'Долар США', 'rate': 36.5686, 'cc': 'USD', 'exchangedate': '23.08.2022'}], [{'r030': 840, 'txt': 'Долар США', 'rate': 36.5686, 'cc': 'USD', 'exchangedate': '24.08.2022'}], [{'r030': 840, 'txt': 'Долар США', 'rate': 36.5686, 'cc': 'USD', 'exchangedate': '25.08.2022'}], [{'r030': 840, 'txt': 'Долар США', 'rate': 36.5686, 'cc': 'USD', 'exchangedate': '26.08.2022'}], [{'r030': 840, 'txt': 'Долар США', 'rate': 36.5686, 'cc': 'USD', 'exchangedate': '27.08.2022'}], [{'r030': 840, 'txt': 'Долар США', 'rate': 36.5686, 'cc': 'USD', 'exchangedate': '28.08.2022'}], [{'r030': 840, 'txt': 'Долар США', 'rate': 36.5686, 'cc': 'USD', 'exchangedate': '29.08.2022'}], [{'r030': 840, 'txt': 'Долар США', 'rate': 36.5686, 'cc': 'USD', 'exchangedate': '30.08.2022'}], [{'r030': 840, 'txt': 'Долар США', 'rate': 36.5686, 'cc': 'USD', 'exchangedate': '31.08.2022'}], [{'r030': 840, 'txt': 'Долар США', 'rate': 36.5686, 'cc': 'USD', 'exchangedate': '01.09.2022'}], [{'r030': 840, 'txt': 'Долар США', 'rate': 36.5686, 'cc': 'USD', 'exchangedate': '02.09.2022'}], [{'r030': 840, 'txt': 'Долар США', 'rate': 36.5686, 'cc': 'USD', 'exchangedate': '03.09.2022'}], [{'r030': 840, 'txt': 'Долар США', 'rate': 36.5686, 'cc': 'USD', 'exchangedate': '04.09.2022'}], [{'r030': 840, 'txt': 'Долар США', 'rate': 36.5686, 'cc': 'USD', 'exchangedate': '05.09.2022'}], [{'r030': 840, 'txt': 'Долар США', 'rate': 36.5686, 'cc': 'USD', 'exchangedate': '06.09.2022'}], [{'r030': 840, 'txt': 'Долар США', 'rate': 36.5686, 'cc': 'USD', 'exchangedate': '07.09.2022'}], [{'r030': 840, 'txt': 'Долар США', 'rate': 36.5686, 'cc': 'USD', 'exchangedate': '08.09.2022'}], [{'r030': 840, 'txt': 'Долар США', 'rate': 36.5686, 'cc': 'USD', 'exchangedate': '09.09.2022'}], [{'r030': 840, 'txt': 'Долар США', 'rate': 36.5686, 'cc': 'USD', 'exchangedate': '10.09.2022'}], [{'r030': 840, 'txt': 'Долар США', 'rate': 36.5686, 'cc': 'USD', 'exchangedate': '11.09.2022'}], [{'r030': 840, 'txt': 'Долар США', 'rate': 36.5686, 'cc': 'USD', 'exchangedate': '12.09.2022'}], [{'r030': 840, 'txt': 'Долар США', 'rate': 36.5686, 'cc': 'USD', 'exchangedate': '13.09.2022'}], [{'r030': 840, 'txt': 'Долар США', 'rate': 36.5686, 'cc': 'USD', 'exchangedate': '14.09.2022'}], [{'r030': 840, 'txt': 'Долар США', 'rate': 36.5686, 'cc': 'USD', 'exchangedate': '15.09.2022'}], [{'r030': 840, 'txt': 'Долар США', 'rate': 36.5686, 'cc': 'USD', 'exchangedate': '16.09.2022'}], [{'r030': 840, 'txt': 'Долар США', 'rate': 36.5686, 'cc': 'USD', 'exchangedate': '17.09.2022'}], [{'r030': 840, 'txt': 'Долар США', 'rate': 36.5686, 'cc': 'USD', 'exchangedate': '18.09.2022'}], [{'r030': 840, 'txt': 'Долар США', 'rate': 36.5686, 'cc': 'USD', 'exchangedate': '19.09.2022'}], [{'r030': 840, 'txt': 'Долар США', 'rate': 36.5686, 'cc': 'USD', 'exchangedate': '20.09.2022'}], [{'r030': 840, 'txt': 'Долар США', 'rate': 36.5686, 'cc': 'USD', 'exchangedate': '21.09.2022'}], [{'r030': 840, 'txt': 'Долар США', 'rate': 36.5686, 'cc': 'USD', 'exchangedate': '22.09.2022'}], [{'r030': 840, 'txt': 'Долар США', 'rate': 36.5686, 'cc': 'USD', 'exchangedate': '23.09.2022'}], [{'r030': 840, 'txt': 'Долар США', 'rate': 36.5686, 'cc': 'USD', 'exchangedate': '24.09.2022'}], [{'r030': 840, 'txt': 'Долар США', 'rate': 36.5686, 'cc': 'USD', 'exchangedate': '25.09.2022'}], [{'r030': 840, 'txt': 'Долар США', 'rate': 36.5686, 'cc': 'USD', 'exchangedate': '26.09.2022'}], [{'r030': 840, 'txt': 'Долар США', 'rate': 36.5686, 'cc': 'USD', 'exchangedate': '27.09.2022'}], [{'r030': 840, 'txt': 'Долар США', 'rate': 36.5686, 'cc': 'USD', 'exchangedate': '28.09.2022'}], [{'r030': 840, 'txt': 'Долар США', 'rate': 36.5686, 'cc': 'USD', 'exchangedate': '29.09.2022'}], [{'r030': 840, 'txt': 'Долар США', 'rate': 36.5686, 'cc': 'USD', 'exchangedate': '30.09.2022'}], [{'r030': 840, 'txt': 'Долар США', 'rate': 36.5686, 'cc': 'USD', 'exchangedate': '01.10.2022'}], [{'r030': 840, 'txt': 'Долар США', 'rate': 36.5686, 'cc': 'USD', 'exchangedate': '02.10.2022'}], [{'r030': 840, 'txt': 'Долар США', 'rate': 36.5686, 'cc': 'USD', 'exchangedate': '03.10.2022'}], [{'r030': 840, 'txt': 'Долар США', 'rate': 36.5686, 'cc': 'USD', 'exchangedate': '04.10.2022'}], [{'r030': 840, 'txt': 'Долар США', 'rate': 36.5686, 'cc': 'USD', 'exchangedate': '05.10.2022'}], [{'r030': 840, 'txt': 'Долар США', 'rate': 36.5686, 'cc': 'USD', 'exchangedate': '06.10.2022'}], [{'r030': 840, 'txt': 'Долар США', 'rate': 36.5686, 'cc': 'USD', 'exchangedate': '07.10.2022'}], [{'r030': 840, 'txt': 'Долар США', 'rate': 36.5686, 'cc': 'USD', 'exchangedate': '08.10.2022'}], [{'r030': 840, 'txt': 'Долар США', 'rate': 36.5686, 'cc': 'USD', 'exchangedate': '09.10.2022'}], [{'r030': 840, 'txt': 'Долар США', 'rate': 36.5686, 'cc': 'USD', 'exchangedate': '10.10.2022'}], [{'r030': 840, 'txt': 'Долар США', 'rate': 36.5686, 'cc': 'USD', 'exchangedate': '11.10.2022'}], [{'r030': 840, 'txt': 'Долар США', 'rate': 36.5686, 'cc': 'USD', 'exchangedate': '12.10.2022'}], [{'r030': 840, 'txt': 'Долар США', 'rate': 36.5686, 'cc': 'USD', 'exchangedate': '13.10.2022'}], [{'r030': 840, 'txt': 'Долар США', 'rate': 36.5686, 'cc': 'USD', 'exchangedate': '14.10.2022'}], [{'r030': 840, 'txt': 'Долар США', 'rate': 36.5686, 'cc': 'USD', 'exchangedate': '15.10.2022'}], [{'r030': 840, 'txt': 'Долар США', 'rate': 36.5686, 'cc': 'USD', 'exchangedate': '16.10.2022'}], [{'r030': 840, 'txt': 'Долар США', 'rate': 36.5686, 'cc': 'USD', 'exchangedate': '17.10.2022'}], [{'r030': 840, 'txt': 'Долар США', 'rate': 36.5686, 'cc': 'USD', 'exchangedate': '18.10.2022'}], [{'r030': 840, 'txt': 'Долар США', 'rate': 36.5686, 'cc': 'USD', 'exchangedate': '19.10.2022'}], [{'r030': 840, 'txt': 'Долар США', 'rate': 36.5686, 'cc': 'USD', 'exchangedate': '20.10.2022'}], [{'r030': 840, 'txt': 'Долар США', 'rate': 36.5686, 'cc': 'USD', 'exchangedate': '21.10.2022'}], [{'r030': 840, 'txt': 'Долар США', 'rate': 36.5686, 'cc': 'USD', 'exchangedate': '22.10.2022'}], [{'r030': 840, 'txt': 'Долар США', 'rate': 36.5686, 'cc': 'USD', 'exchangedate': '23.10.2022'}], [{'r030': 840, 'txt': 'Долар США', 'rate': 36.5686, 'cc': 'USD', 'exchangedate': '24.10.2022'}], [{'r030': 840, 'txt': 'Долар США', 'rate': 36.5686, 'cc': 'USD', 'exchangedate': '25.10.2022'}], [{'r030': 840, 'txt': 'Долар США', 'rate': 36.5686, 'cc': 'USD', 'exchangedate': '26.10.2022'}], [{'r030': 840, 'txt': 'Долар США', 'rate': 36.5686, 'cc': 'USD', 'exchangedate': '27.10.2022'}], [{'r030': 840, 'txt': 'Долар США', 'rate': 36.5686, 'cc': 'USD', 'exchangedate': '28.10.2022'}], [{'r030': 840, 'txt': 'Долар США', 'rate': 36.5686, 'cc': 'USD', 'exchangedate': '29.10.2022'}], [{'r030': 840, 'txt': 'Долар США', 'rate': 36.5686, 'cc': 'USD', 'exchangedate': '30.10.2022'}], [{'r030': 840, 'txt': 'Долар США', 'rate': 36.5686, 'cc': 'USD', 'exchangedate': '31.10.2022'}], [{'r030': 840, 'txt': 'Долар США', 'rate': 36.5686, 'cc': 'USD', 'exchangedate': '01.11.2022'}], [{'r030': 840, 'txt': 'Долар США', 'rate': 36.5686, 'cc': 'USD', 'exchangedate': '02.11.2022'}], [{'r030': 840, 'txt': 'Долар США', 'rate': 36.5686, 'cc': 'USD', 'exchangedate': '03.11.2022'}], [{'r030': 840, 'txt': 'Долар США', 'rate': 36.5686, 'cc': 'USD', 'exchangedate': '04.11.2022'}], [{'r030': 840, 'txt': 'Долар США', 'rate': 36.5686, 'cc': 'USD', 'exchangedate': '05.11.2022'}], [{'r030': 840, 'txt': 'Долар США', 'rate': 36.5686, 'cc': 'USD', 'exchangedate': '06.11.2022'}], [{'r030': 840, 'txt': 'Долар США', 'rate': 36.5686, 'cc': 'USD', 'exchangedate': '07.11.2022'}], [{'r030': 840, 'txt': 'Долар США', 'rate': 36.5686, 'cc': 'USD', 'exchangedate': '08.11.2022'}], [{'r030': 840, 'txt': 'Долар США', 'rate': 36.5686, 'cc': 'USD', 'exchangedate': '09.11.2022'}], [{'r030': 840, 'txt': 'Долар США', 'rate': 36.5686, 'cc': 'USD', 'exchangedate': '10.11.2022'}], [{'r030': 840, 'txt': 'Долар США', 'rate': 36.5686, 'cc': 'USD', 'exchangedate': '11.11.2022'}], [{'r030': 840, 'txt': 'Долар США', 'rate': 36.5686, 'cc': 'USD', 'exchangedate': '12.11.2022'}], [{'r030': 840, 'txt': 'Долар США', 'rate': 36.5686, 'cc': 'USD', 'exchangedate': '13.11.2022'}], [{'r030': 840, 'txt': 'Долар США', 'rate': 36.5686, 'cc': 'USD', 'exchangedate': '14.11.2022'}], [{'r030': 840, 'txt': 'Долар США', 'rate': 36.5686, 'cc': 'USD', 'exchangedate': '15.11.2022'}], [{'r030': 840, 'txt': 'Долар США', 'rate': 36.5686, 'cc': 'USD', 'exchangedate': '16.11.2022'}], [{'r030': 840, 'txt': 'Долар США', 'rate': 36.5686, 'cc': 'USD', 'exchangedate': '17.11.2022'}], [{'r030': 840, 'txt': 'Долар США', 'rate': 36.5686, 'cc': 'USD', 'exchangedate': '18.11.2022'}], [{'r030': 840, 'txt': 'Долар США', 'rate': 36.5686, 'cc': 'USD', 'exchangedate': '19.11.2022'}], [{'r030': 840, 'txt': 'Долар США', 'rate': 36.5686, 'cc': 'USD', 'exchangedate': '20.11.2022'}], [{'r030': 840, 'txt': 'Долар США', 'rate': 36.5686, 'cc': 'USD', 'exchangedate': '21.11.2022'}], [{'r030': 840, 'txt': 'Долар США', 'rate': 36.5686, 'cc': 'USD', 'exchangedate': '22.11.2022'}], [{'r030': 840, 'txt': 'Долар США', 'rate': 36.5686, 'cc': 'USD', 'exchangedate': '23.11.2022'}], [{'r030': 840, 'txt': 'Долар США', 'rate': 36.5686, 'cc': 'USD', 'exchangedate': '24.11.2022'}], [{'r030': 840, 'txt': 'Долар США', 'rate': 36.5686, 'cc': 'USD', 'exchangedate': '25.11.2022'}], [{'r030': 840, 'txt': 'Долар США', 'rate': 36.5686, 'cc': 'USD', 'exchangedate': '26.11.2022'}], [{'r030': 840, 'txt': 'Долар США', 'rate': 36.5686, 'cc': 'USD', 'exchangedate': '27.11.2022'}], [{'r030': 840, 'txt': 'Долар США', 'rate': 36.5686, 'cc': 'USD', 'exchangedate': '28.11.2022'}], [{'r030': 840, 'txt': 'Долар США', 'rate': 36.5686, 'cc': 'USD', 'exchangedate': '29.11.2022'}], [{'r030': 840, 'txt': 'Долар США', 'rate': 36.5686, 'cc': 'USD', 'exchangedate': '30.11.2022'}], [{'r030': 840, 'txt': 'Долар США', 'rate': 36.5686, 'cc': 'USD', 'exchangedate': '01.12.2022'}], [{'r030': 840, 'txt': 'Долар США', 'rate': 36.5686, 'cc': 'USD', 'exchangedate': '02.12.2022'}], [{'r030': 840, 'txt': 'Долар США', 'rate': 36.5686, 'cc': 'USD', 'exchangedate': '03.12.2022'}], [{'r030': 840, 'txt': 'Долар США', 'rate': 36.5686, 'cc': 'USD', 'exchangedate': '04.12.2022'}], [{'r030': 840, 'txt': 'Долар США', 'rate': 36.5686, 'cc': 'USD', 'exchangedate': '05.12.2022'}], [{'r030': 840, 'txt': 'Долар США', 'rate': 36.5686, 'cc': 'USD', 'exchangedate': '06.12.2022'}], [{'r030': 840, 'txt': 'Долар США', 'rate': 36.5686, 'cc': 'USD', 'exchangedate': '07.12.2022'}], [{'r030': 840, 'txt': 'Долар США', 'rate': 36.5686, 'cc': 'USD', 'exchangedate': '08.12.2022'}], [{'r030': 840, 'txt': 'Долар США', 'rate': 36.5686, 'cc': 'USD', 'exchangedate': '09.12.2022'}], [{'r030': 840, 'txt': 'Долар США', 'rate': 36.5686, 'cc': 'USD', 'exchangedate': '10.12.2022'}], [{'r030': 840, 'txt': 'Долар США', 'rate': 36.5686, 'cc': 'USD', 'exchangedate': '11.12.2022'}], [{'r030': 840, 'txt': 'Долар США', 'rate': 36.5686, 'cc': 'USD', 'exchangedate': '12.12.2022'}], [{'r030': 840, 'txt': 'Долар США', 'rate': 36.5686, 'cc': 'USD', 'exchangedate': '13.12.2022'}], [{'r030': 840, 'txt': 'Долар США', 'rate': 36.5686, 'cc': 'USD', 'exchangedate': '14.12.2022'}], [{'r030': 840, 'txt': 'Долар США', 'rate': 36.5686, 'cc': 'USD', 'exchangedate': '15.12.2022'}], [{'r030': 840, 'txt': 'Долар США', 'rate': 36.5686, 'cc': 'USD', 'exchangedate': '16.12.2022'}], [{'r030': 840, 'txt': 'Долар США', 'rate': 36.5686, 'cc': 'USD', 'exchangedate': '17.12.2022'}], [{'r030': 840, 'txt': 'Долар США', 'rate': 36.5686, 'cc': 'USD', 'exchangedate': '18.12.2022'}], [{'r030': 840, 'txt': 'Долар США', 'rate': 36.5686, 'cc': 'USD', 'exchangedate': '19.12.2022'}], [{'r030': 840, 'txt': 'Долар США', 'rate': 36.5686, 'cc': 'USD', 'exchangedate': '20.12.2022'}], [{'r030': 840, 'txt': 'Долар США', 'rate': 36.5686, 'cc': 'USD', 'exchangedate': '21.12.2022'}], [{'r030': 840, 'txt': 'Долар США', 'rate': 36.5686, 'cc': 'USD', 'exchangedate': '22.12.2022'}], [{'r030': 840, 'txt': 'Долар США', 'rate': 36.5686, 'cc': 'USD', 'exchangedate': '23.12.2022'}], [{'r030': 840, 'txt': 'Долар США', 'rate': 36.5686, 'cc': 'USD', 'exchangedate': '24.12.2022'}], [{'r030': 840, 'txt': 'Долар США', 'rate': 36.5686, 'cc': 'USD', 'exchangedate': '25.12.2022'}], [{'r030': 840, 'txt': 'Долар США', 'rate': 36.5686, 'cc': 'USD', 'exchangedate': '26.12.2022'}], [{'r030': 840, 'txt': 'Долар США', 'rate': 36.5686, 'cc': 'USD', 'exchangedate': '27.12.2022'}], [{'r030': 840, 'txt': 'Долар США', 'rate': 36.5686, 'cc': 'USD', 'exchangedate': '28.12.2022'}], [{'r030': 840, 'txt': 'Долар США', 'rate': 36.5686, 'cc': 'USD', 'exchangedate': '29.12.2022'}], [{'r030': 840, 'txt': 'Долар США', 'rate': 36.5686, 'cc': 'USD', 'exchangedate': '30.12.2022'}], [{'r030': 840, 'txt': 'Долар США', 'rate': 36.5686, 'cc': 'USD', 'exchangedate': '31.12.2022'}], [{'r030': 840, 'txt': 'Долар США', 'rate': 36.5686, 'cc': 'USD', 'exchangedate': '01.01.2023'}], [{'r030': 840, 'txt': 'Долар США', 'rate': 36.5686, 'cc': 'USD', 'exchangedate': '02.01.2023'}], [{'r030': 840, 'txt': 'Долар США', 'rate': 36.5686, 'cc': 'USD', 'exchangedate': '03.01.2023'}], [{'r030': 840, 'txt': 'Долар США', 'rate': 36.5686, 'cc': 'USD', 'exchangedate': '04.01.2023'}], [{'r030': 840, 'txt': 'Долар США', 'rate': 36.5686, 'cc': 'USD', 'exchangedate': '05.01.2023'}], [{'r030': 840, 'txt': 'Долар США', 'rate': 36.5686, 'cc': 'USD', 'exchangedate': '06.01.2023'}], [{'r030': 840, 'txt': 'Долар США', 'rate': 36.5686, 'cc': 'USD', 'exchangedate': '07.01.2023'}], [{'r030': 840, 'txt': 'Долар США', 'rate': 36.5686, 'cc': 'USD', 'exchangedate': '08.01.2023'}], [{'r030': 840, 'txt': 'Долар США', 'rate': 36.5686, 'cc': 'USD', 'exchangedate': '09.01.2023'}], [{'r030': 840, 'txt': 'Долар США', 'rate': 36.5686, 'cc': 'USD', 'exchangedate': '10.01.2023'}], [{'r030': 840, 'txt': 'Долар США', 'rate': 36.5686, 'cc': 'USD', 'exchangedate': '11.01.2023'}], [{'r030': 840, 'txt': 'Долар США', 'rate': 36.5686, 'cc': 'USD', 'exchangedate': '12.01.2023'}], [{'r030': 840, 'txt': 'Долар США', 'rate': 36.5686, 'cc': 'USD', 'exchangedate': '13.01.2023'}], [{'r030': 840, 'txt': 'Долар США', 'rate': 36.5686, 'cc': 'USD', 'exchangedate': '14.01.2023'}], [{'r030': 840, 'txt': 'Долар США', 'rate': 36.5686, 'cc': 'USD', 'exchangedate': '15.01.2023'}], [{'r030': 840, 'txt': 'Долар США', 'rate': 36.5686, 'cc': 'USD', 'exchangedate': '16.01.2023'}], [{'r030': 840, 'txt': 'Долар США', 'rate': 36.5686, 'cc': 'USD', 'exchangedate': '17.01.2023'}], [{'r030': 840, 'txt': 'Долар США', 'rate': 36.5686, 'cc': 'USD', 'exchangedate': '18.01.2023'}], [{'r030': 840, 'txt': 'Долар США', 'rate': 36.5686, 'cc': 'USD', 'exchangedate': '19.01.2023'}], [{'r030': 840, 'txt': 'Долар США', 'rate': 36.5686, 'cc': 'USD', 'exchangedate': '20.01.2023'}], [{'r030': 840, 'txt': 'Долар США', 'rate': 36.5686, 'cc': 'USD', 'exchangedate': '21.01.2023'}], [{'r030': 840, 'txt': 'Долар США', 'rate': 36.5686, 'cc': 'USD', 'exchangedate': '22.01.2023'}], [{'r030': 840, 'txt': 'Долар США', 'rate': 36.5686, 'cc': 'USD', 'exchangedate': '23.01.2023'}], [{'r030': 840, 'txt': 'Долар США', 'rate': 36.5686, 'cc': 'USD', 'exchangedate': '24.01.2023'}], [{'r030': 840, 'txt': 'Долар США', 'rate': 36.5686, 'cc': 'USD', 'exchangedate': '25.01.2023'}], [{'r030': 840, 'txt': 'Долар США', 'rate': 36.5686, 'cc': 'USD', 'exchangedate': '26.01.2023'}], [{'r030': 840, 'txt': 'Долар США', 'rate': 36.5686, 'cc': 'USD', 'exchangedate': '27.01.2023'}], [{'r030': 840, 'txt': 'Долар США', 'rate': 36.5686, 'cc': 'USD', 'exchangedate': '28.01.2023'}], [{'r030': 840, 'txt': 'Долар США', 'rate': 36.5686, 'cc': 'USD', 'exchangedate': '29.01.2023'}], [{'r030': 840, 'txt': 'Долар США', 'rate': 36.5686, 'cc': 'USD', 'exchangedate': '30.01.2023'}], [{'r030': 840, 'txt': 'Долар США', 'rate': 36.5686, 'cc': 'USD', 'exchangedate': '31.01.2023'}], [{'r030': 840, 'txt': 'Долар США', 'rate': 36.5686, 'cc': 'USD', 'exchangedate': '01.02.2023'}], [{'r030': 840, 'txt': 'Долар США', 'rate': 36.5686, 'cc': 'USD', 'exchangedate': '02.02.2023'}], [{'r030': 840, 'txt': 'Долар США', 'rate': 36.5686, 'cc': 'USD', 'exchangedate': '03.02.2023'}], [{'r030': 840, 'txt': 'Долар США', 'rate': 36.5686, 'cc': 'USD', 'exchangedate': '04.02.2023'}], [{'r030': 840, 'txt': 'Долар США', 'rate': 36.5686, 'cc': 'USD', 'exchangedate': '05.02.2023'}], [{'r030': 840, 'txt': 'Долар США', 'rate': 36.5686, 'cc': 'USD', 'exchangedate': '06.02.2023'}], [{'r030': 840, 'txt': 'Долар США', 'rate': 36.5686, 'cc': 'USD', 'exchangedate': '07.02.2023'}], [{'r030': 840, 'txt': 'Долар США', 'rate': 36.5686, 'cc': 'USD', 'exchangedate': '08.02.2023'}], [{'r030': 840, 'txt': 'Долар США', 'rate': 36.5686, 'cc': 'USD', 'exchangedate': '09.02.2023'}], [{'r030': 840, 'txt': 'Долар США', 'rate': 36.5686, 'cc': 'USD', 'exchangedate': '10.02.2023'}], [{'r030': 840, 'txt': 'Долар США', 'rate': 36.5686, 'cc': 'USD', 'exchangedate': '11.02.2023'}], [{'r030': 840, 'txt': 'Долар США', 'rate': 36.5686, 'cc': 'USD', 'exchangedate': '12.02.2023'}], [{'r030': 840, 'txt': 'Долар США', 'rate': 36.5686, 'cc': 'USD', 'exchangedate': '13.02.2023'}], [{'r030': 840, 'txt': 'Долар США', 'rate': 36.5686, 'cc': 'USD', 'exchangedate': '14.02.2023'}], [{'r030': 840, 'txt': 'Долар США', 'rate': 36.5686, 'cc': 'USD', 'exchangedate': '15.02.2023'}], [{'r030': 840, 'txt': 'Долар США', 'rate': 36.5686, 'cc': 'USD', 'exchangedate': '16.02.2023'}], [{'r030': 840, 'txt': 'Долар США', 'rate': 36.5686, 'cc': 'USD', 'exchangedate': '17.02.2023'}], [{'r030': 840, 'txt': 'Долар США', 'rate': 36.5686, 'cc': 'USD', 'exchangedate': '18.02.2023'}], [{'r030': 840, 'txt': 'Долар США', 'rate': 36.5686, 'cc': 'USD', 'exchangedate': '19.02.2023'}], [{'r030': 840, 'txt': 'Долар США', 'rate': 36.5686, 'cc': 'USD', 'exchangedate': '20.02.2023'}], [{'r030': 840, 'txt': 'Долар США', 'rate': 36.5686, 'cc': 'USD', 'exchangedate': '21.02.2023'}], [{'r030': 840, 'txt': 'Долар США', 'rate': 36.5686, 'cc': 'USD', 'exchangedate': '22.02.2023'}], [{'r030': 840, 'txt': 'Долар США', 'rate': 36.5686, 'cc': 'USD', 'exchangedate': '23.02.2023'}], [{'r030': 840, 'txt': 'Долар США', 'rate': 36.5686, 'cc': 'USD', 'exchangedate': '24.02.2023'}], [{'r030': 840, 'txt': 'Долар США', 'rate': 36.5686, 'cc': 'USD', 'exchangedate': '25.02.2023'}], [{'r030': 840, 'txt': 'Долар США', 'rate': 36.5686, 'cc': 'USD', 'exchangedate': '26.02.2023'}], [{'r030': 840, 'txt': 'Долар США', 'rate': 36.5686, 'cc': 'USD', 'exchangedate': '27.02.2023'}], [{'r030': 840, 'txt': 'Долар США', 'rate': 36.5686, 'cc': 'USD', 'exchangedate': '28.02.2023'}], [{'r030': 840, 'txt': 'Долар США', 'rate': 36.5686, 'cc': 'USD', 'exchangedate': '01.03.2023'}], [{'r030': 840, 'txt': 'Долар США', 'rate': 36.5686, 'cc': 'USD', 'exchangedate': '02.03.2023'}], [{'r030': 840, 'txt': 'Долар США', 'rate': 36.5686, 'cc': 'USD', 'exchangedate': '03.03.2023'}], [{'r030': 840, 'txt': 'Долар США', 'rate': 36.5686, 'cc': 'USD', 'exchangedate': '04.03.2023'}], [{'r030': 840, 'txt': 'Долар США', 'rate': 36.5686, 'cc': 'USD', 'exchangedate': '05.03.2023'}], [{'r030': 840, 'txt': 'Долар США', 'rate': 36.5686, 'cc': 'USD', 'exchangedate': '06.03.2023'}], [{'r030': 840, 'txt': 'Долар США', 'rate': 36.5686, 'cc': 'USD', 'exchangedate': '07.03.2023'}], [{'r030': 840, 'txt': 'Долар США', 'rate': 36.5686, 'cc': 'USD', 'exchangedate': '08.03.2023'}], [{'r030': 840, 'txt': 'Долар США', 'rate': 36.5686, 'cc': 'USD', 'exchangedate': '09.03.2023'}], [{'r030': 840, 'txt': 'Долар США', 'rate': 36.5686, 'cc': 'USD', 'exchangedate': '10.03.2023'}], [{'r030': 840, 'txt': 'Долар США', 'rate': 36.5686, 'cc': 'USD', 'exchangedate': '11.03.2023'}], [{'r030': 840, 'txt': 'Долар США', 'rate': 36.5686, 'cc': 'USD', 'exchangedate': '12.03.2023'}], [{'r030': 840, 'txt': 'Долар США', 'rate': 36.5686, 'cc': 'USD', 'exchangedate': '13.03.2023'}], [{'r030': 840, 'txt': 'Долар США', 'rate': 36.5686, 'cc': 'USD', 'exchangedate': '14.03.2023'}], [{'r030': 840, 'txt': 'Долар США', 'rate': 36.5686, 'cc': 'USD', 'exchangedate': '15.03.2023'}], [{'r030': 840, 'txt': 'Долар США', 'rate': 36.5686, 'cc': 'USD', 'exchangedate': '16.03.2023'}], [{'r030': 840, 'txt': 'Долар США', 'rate': 36.5686, 'cc': 'USD', 'exchangedate': '17.03.2023'}], [{'r030': 840, 'txt': 'Долар США', 'rate': 36.5686, 'cc': 'USD', 'exchangedate': '18.03.2023'}], [{'r030': 840, 'txt': 'Долар США', 'rate': 36.5686, 'cc': 'USD', 'exchangedate': '19.03.2023'}], [{'r030': 840, 'txt': 'Долар США', 'rate': 36.5686, 'cc': 'USD', 'exchangedate': '20.03.2023'}], [{'r030': 840, 'txt': 'Долар США', 'rate': 36.5686, 'cc': 'USD', 'exchangedate': '21.03.2023'}], [{'r030': 840, 'txt': 'Долар США', 'rate': 36.5686, 'cc': 'USD', 'exchangedate': '22.03.2023'}], [{'r030': 840, 'txt': 'Долар США', 'rate': 36.5686, 'cc': 'USD', 'exchangedate': '23.03.2023'}], [{'r030': 840, 'txt': 'Долар США', 'rate': 36.5686, 'cc': 'USD', 'exchangedate': '24.03.2023'}], [{'r030': 840, 'txt': 'Долар США', 'rate': 36.5686, 'cc': 'USD', 'exchangedate': '25.03.2023'}], [{'r030': 840, 'txt': 'Долар США', 'rate': 36.5686, 'cc': 'USD', 'exchangedate': '26.03.2023'}]]\n"
     ],
     "output_type":"stream"
    }
   ],
   "metadata":{
    "datalore":{
     "node_id":"jjKl5VPwWT9SCesk5ws0NW",
     "type":"CODE",
     "hide_input_from_viewers":false,
     "hide_output_from_viewers":false,
     "report_properties":{
      "rowId":"xtC6ulSU79gd8PKGjS9dUU"
     }
    }
   }
  },
  {
   "cell_type":"markdown",
   "source":[
    "3. Вивести середнє значення та відхилення курсу за кожний місяць."
   ],
   "attachments":{
    
   },
   "metadata":{
    "datalore":{
     "node_id":"fyewsO5mgvMJzUjMmeXe5J",
     "type":"MD",
     "hide_input_from_viewers":false,
     "hide_output_from_viewers":false,
     "report_properties":{
      "rowId":"xtC6ulSU79gd8PKGjS9dUU"
     }
    }
   }
  },
  {
   "cell_type":"code",
   "source":[
    "import numpy as np\n",
    "for i in exchangeData:\n",
    "    date = i[0]['exchangedate']\n",
    "    exchangeMonth[i[0]['exchangedate'][3:]]={'rates':[], \n",
    "                                 'avg':0,\n",
    "                                 'stdev':0\n",
    "                                 }\n",
    "\n",
    "\n",
    "for i in exchangeData:\n",
    "    exchangeMonth[i[0]['exchangedate'][3:]]['rates'].append(i[0]['rate'])\n",
    "\n",
    "for month in exchangeMonth:\n",
    "    exchangeMonth[month]['avg'] = round(sum(exchangeMonth[month]['rates'])\/len(exchangeMonth[month]['rates']),2)\n",
    "    exchangeMonth[month]['stdev'] = round(np.std(exchangeMonth[month]['rates']),2)\n",
    "\n",
    "print(exchangeMonth)\n",
    "\n",
    "    "
   ],
   "execution_count":179,
   "outputs":[
    {
     "name":"stdout",
     "text":[
      "{'03.2023': {'rates': [36.5686, 36.5686, 36.5686, 36.5686, 36.5686, 36.5686, 36.5686, 36.5686, 36.5686, 36.5686, 36.5686, 36.5686, 36.5686, 36.5686, 36.5686, 36.5686, 36.5686, 36.5686, 36.5686, 36.5686, 36.5686, 36.5686, 36.5686, 36.5686, 36.5686, 36.5686], 'avg': 36.57, 'stdev': 0.0}, '03.2022': {'rates': [29.2549, 29.2549, 29.2549, 29.2549, 29.2549, 29.2549], 'avg': 29.25, 'stdev': 0.0}, '04.2022': {'rates': [29.2549, 29.2549, 29.2549, 29.2549, 29.2549, 29.2549, 29.2549, 29.2549, 29.2549, 29.2549, 29.2549, 29.2549, 29.2549, 29.2549, 29.2549, 29.2549, 29.2549, 29.2549, 29.2549, 29.2549, 29.2549, 29.2549, 29.2549, 29.2549, 29.2549, 29.2549, 29.2549, 29.2549, 29.2549, 29.2549], 'avg': 29.25, 'stdev': 0.0}, '05.2022': {'rates': [29.2549, 29.2549, 29.2549, 29.2549, 29.2549, 29.2549, 29.2549, 29.2549, 29.2549, 29.2549, 29.2549, 29.2549, 29.2549, 29.2549, 29.2549, 29.2549, 29.2549, 29.2549, 29.2549, 29.2549, 29.2549, 29.2549, 29.2549, 29.2549, 29.2549, 29.2549, 29.2549, 29.2549, 29.2549, 29.2549, 29.2549], 'avg': 29.25, 'stdev': 0.0}, '06.2022': {'rates': [29.2549, 29.2549, 29.2549, 29.2549, 29.2549, 29.2549, 29.2549, 29.2549, 29.2549, 29.2549, 29.2549, 29.2549, 29.2549, 29.2549, 29.2549, 29.2549, 29.2549, 29.2549, 29.2549, 29.2549, 29.2549, 29.2549, 29.2549, 29.2549, 29.2549, 29.2549, 29.2549, 29.2549, 29.2549, 29.2549], 'avg': 29.25, 'stdev': 0.0}, '07.2022': {'rates': [29.2549, 29.2549, 29.2549, 29.2549, 29.2549, 29.2549, 29.2549, 29.2549, 29.2549, 29.2549, 29.2549, 29.2549, 29.2549, 29.2549, 29.2549, 29.2549, 29.2549, 29.2549, 29.2549, 29.2549, 36.5686, 36.5686, 36.5686, 36.5686, 36.5686, 36.5686, 36.5686, 36.5686, 36.5686, 36.5686, 36.5686], 'avg': 31.85, 'stdev': 3.5}, '08.2022': {'rates': [36.5686, 36.5686, 36.5686, 36.5686, 36.5686, 36.5686, 36.5686, 36.5686, 36.5686, 36.5686, 36.5686, 36.5686, 36.5686, 36.5686, 36.5686, 36.5686, 36.5686, 36.5686, 36.5686, 36.5686, 36.5686, 36.5686, 36.5686, 36.5686, 36.5686, 36.5686, 36.5686, 36.5686, 36.5686, 36.5686, 36.5686], 'avg': 36.57, 'stdev': 0.0}, '09.2022': {'rates': [36.5686, 36.5686, 36.5686, 36.5686, 36.5686, 36.5686, 36.5686, 36.5686, 36.5686, 36.5686, 36.5686, 36.5686, 36.5686, 36.5686, 36.5686, 36.5686, 36.5686, 36.5686, 36.5686, 36.5686, 36.5686, 36.5686, 36.5686, 36.5686, 36.5686, 36.5686, 36.5686, 36.5686, 36.5686, 36.5686], 'avg': 36.57, 'stdev': 0.0}, '10.2022': {'rates': [36.5686, 36.5686, 36.5686, 36.5686, 36.5686, 36.5686, 36.5686, 36.5686, 36.5686, 36.5686, 36.5686, 36.5686, 36.5686, 36.5686, 36.5686, 36.5686, 36.5686, 36.5686, 36.5686, 36.5686, 36.5686, 36.5686, 36.5686, 36.5686, 36.5686, 36.5686, 36.5686, 36.5686, 36.5686, 36.5686, 36.5686], 'avg': 36.57, 'stdev': 0.0}, '11.2022': {'rates': [36.5686, 36.5686, 36.5686, 36.5686, 36.5686, 36.5686, 36.5686, 36.5686, 36.5686, 36.5686, 36.5686, 36.5686, 36.5686, 36.5686, 36.5686, 36.5686, 36.5686, 36.5686, 36.5686, 36.5686, 36.5686, 36.5686, 36.5686, 36.5686, 36.5686, 36.5686, 36.5686, 36.5686, 36.5686, 36.5686], 'avg': 36.57, 'stdev': 0.0}, '12.2022': {'rates': [36.5686, 36.5686, 36.5686, 36.5686, 36.5686, 36.5686, 36.5686, 36.5686, 36.5686, 36.5686, 36.5686, 36.5686, 36.5686, 36.5686, 36.5686, 36.5686, 36.5686, 36.5686, 36.5686, 36.5686, 36.5686, 36.5686, 36.5686, 36.5686, 36.5686, 36.5686, 36.5686, 36.5686, 36.5686, 36.5686, 36.5686], 'avg': 36.57, 'stdev': 0.0}, '01.2023': {'rates': [36.5686, 36.5686, 36.5686, 36.5686, 36.5686, 36.5686, 36.5686, 36.5686, 36.5686, 36.5686, 36.5686, 36.5686, 36.5686, 36.5686, 36.5686, 36.5686, 36.5686, 36.5686, 36.5686, 36.5686, 36.5686, 36.5686, 36.5686, 36.5686, 36.5686, 36.5686, 36.5686, 36.5686, 36.5686, 36.5686, 36.5686], 'avg': 36.57, 'stdev': 0.0}, '02.2023': {'rates': [36.5686, 36.5686, 36.5686, 36.5686, 36.5686, 36.5686, 36.5686, 36.5686, 36.5686, 36.5686, 36.5686, 36.5686, 36.5686, 36.5686, 36.5686, 36.5686, 36.5686, 36.5686, 36.5686, 36.5686, 36.5686, 36.5686, 36.5686, 36.5686, 36.5686, 36.5686, 36.5686, 36.5686], 'avg': 36.57, 'stdev': 0.0}}\n"
     ],
     "output_type":"stream"
    }
   ],
   "metadata":{
    "datalore":{
     "node_id":"KfB2YW2wTHgNVkWjIFmtoZ",
     "type":"CODE",
     "hide_input_from_viewers":true,
     "hide_output_from_viewers":true
    }
   }
  },
  {
   "cell_type":"markdown",
   "source":[
    "4. Дану інформацію записати у файл за допомогою pickle.\n",
    "   "
   ],
   "attachments":{
    
   },
   "metadata":{
    "datalore":{
     "node_id":"8sRvIEdqODFdabygVt9skU",
     "type":"MD",
     "hide_input_from_viewers":true,
     "hide_output_from_viewers":true
    }
   }
  },
  {
   "cell_type":"code",
   "source":[
    "import pickle \n",
    "\n",
    "\n",
    "with open(\"exchangeByMonth.pcl\", \"wb\") as file1:\n",
    "    pickle.dump(exchangeMonth, file1)"
   ],
   "execution_count":181,
   "outputs":[
    
   ],
   "metadata":{
    "datalore":{
     "node_id":"lSUKymFNjHZA2PnZgKVyqJ",
     "type":"CODE",
     "hide_input_from_viewers":true,
     "hide_output_from_viewers":true
    }
   }
  },
  {
   "cell_type":"markdown",
   "source":[
    "### Завдання 2:"
   ],
   "attachments":{
    
   },
   "metadata":{
    "datalore":{
     "node_id":"a630I7OviCIi6k7enbdKI0",
     "type":"MD",
     "hide_input_from_viewers":false,
     "hide_output_from_viewers":false,
     "report_properties":{
      "rowId":"xtC6ulSU79gd8PKGjS9dUU"
     }
    }
   }
  },
  {
   "cell_type":"markdown",
   "source":[
    "Потрібно проаналізувати всі товари на сайті: \n",
    "https:\/\/smallpacking.agrosem.ua\/shop\/"
   ],
   "attachments":{
    
   },
   "metadata":{
    "datalore":{
     "node_id":"Duj89qlNGkUogD5JyRJk4s",
     "type":"MD",
     "hide_input_from_viewers":false,
     "hide_output_from_viewers":false,
     "report_properties":{
      "rowId":"xtC6ulSU79gd8PKGjS9dUU"
     }
    }
   }
  },
  {
   "cell_type":"code",
   "source":[
    "from bs4 import BeautifulSoup\n",
    "import requests\n",
    "headers = {\n",
    "    'authority': 'www.google.com',\n",
    "    'cache-control': 'max-age=0',\n",
    "    'sec-ch-ua': '\"Google Chrome\";v=\"87\", \" Not;A Brand\";v=\"99\", \"Chromium\";v=\"87\"',\n",
    "    'sec-ch-ua-mobile': '?0',\n",
    "    'upgrade-insecure-requests': '1',\n",
    "    'user-agent': 'Mozilla\/5.0 (Windows NT 10.0; Win64; x64) AppleWebKit\/537.36 (KHTML, like Gecko) Chrome\/87.0.4280.88 Safari\/537.36',\n",
    "    'accept': 'text\/html,application\/xhtml+xml,application\/xml;q=0.9,image\/avif,image\/webp,image\/apng,*\/*;q=0.8,application\/signed-exchange;v=b3;q=0.9',\n",
    "    'x-client-data': 'CIu2yQEIorbJAQjBtskBCKmdygEIrMfKAQj4x8oBCKPNygEI3NXKAQin+csB',\n",
    "    'sec-fetch-site': 'same-origin',\n",
    "    'sec-fetch-mode': 'navigate',\n",
    "    'sec-fetch-user': '?1',\n",
    "    'sec-fetch-dest': 'document',\n",
    "    'accept-language': 'uk'\n",
    "}\n",
    "r = requests.get('https:\/\/smallpacking.agrosem.ua\/products\/?page=1', headers=headers).text\n",
    "\n",
    "soup = BeautifulSoup(r,'lxml')\n",
    "soup.find_all('div', class_ = 'items_wrap')\n",
    "soup.find_all('div', class_ = 'info')"
   ],
   "execution_count":210,
   "outputs":[
    {
     "data":{
      "text\/plain":[
       "[<div class=\"info\"><a class=\"key\" full-name=\"ДОБРИВО ДЛЯ ВІЧНОЗЕЛЕНИХ ДЕРЕВ ТА КУЩІВ ОСІНЬ 3 кг\" href=\"\/products\/1542\">ДОБРИВО ДЛЯ ВІЧНОЗЕЛЕНИХ ДЕРЕВ ТА КУЩІВ ОСІНЬ 3 кг<\/a><p class=\"key weight\">Вага<span>  <\/span><\/p><\/div>,\n",
       " <div class=\"info\"><a class=\"key\" full-name=\"ДОБРИВО ДЛЯ ВІЧНОЗЕЛЕНИХ ДЕРЕВ ТА КУЩІВ ОСІНЬ 10 кг\" href=\"\/products\/1523\">ДОБРИВО ДЛЯ ВІЧНОЗЕЛЕНИХ ДЕРЕВ ТА КУЩІВ ОСІНЬ 10 кг<\/a><p class=\"key weight\">Вага<span>  <\/span><\/p><\/div>,\n",
       " <div class=\"info\"><a class=\"key\" full-name=\"ДОБРИВО УНІВЕРСАЛЬНЕ ГРУНТОВЕ ОСІНЬ 1 кг\" href=\"\/products\/1525\">ДОБРИВО УНІВЕРСАЛЬНЕ ГРУНТОВЕ ОСІНЬ 1 кг<\/a><p class=\"key weight\">Вага<span>  <\/span><\/p><\/div>,\n",
       " <div class=\"info\"><a class=\"key\" full-name=\"ДОБРИВО ДЛЯ ГАЗОНУ ОСІНЬ 1 кг\" href=\"\/products\/1528\">ДОБРИВО ДЛЯ ГАЗОНУ ОСІНЬ 1 кг<\/a><p class=\"key weight\">Вага<span>  <\/span><\/p><\/div>,\n",
       " <div class=\"info\"><a class=\"key\" full-name=\"ДОБРИВО ДЛЯ ГАЗОНУ ОСІНЬ 10 кг\" href=\"\/products\/1536\">ДОБРИВО ДЛЯ ГАЗОНУ ОСІНЬ 10 кг<\/a><p class=\"key weight\">Вага<span>  <\/span><\/p><\/div>,\n",
       " <div class=\"info\"><a class=\"key\" full-name=\"ДОБРИВО ДЛЯ САМШИТУ ТА ВІЧНОЗЕЛЕНИХ ЧАГАРНИКІВ, Yara Folicare 180 г\" href=\"\/products\/1608\">ДОБРИВО ДЛЯ САМШИТУ ТА ВІЧНОЗЕЛЕНИХ ЧАГАРНИКІВ, Yara Folicare 180 г<\/a><p class=\"key weight\">Вага<span>  <\/span><\/p><\/div>,\n",
       " <div class=\"info\"><a class=\"key\" full-name=\"ДОБРИВО ДЛЯ ХВОЙНИХ РОСЛИН, Yara Folicare 180 г\" href=\"\/products\/1610\">ДОБРИВО ДЛЯ ХВОЙНИХ РОСЛИН, Yara Folicare 180 г<\/a><p class=\"key weight\">Вага<span>  <\/span><\/p><\/div>,\n",
       " <div class=\"info\"><a class=\"key\" full-name=\"ДОБРИВО ДЛЯ ДЕКОРАТИВНИХ ЛИСТОВИХ ВЕСНА-ЛІТО 3 кг\" href=\"\/products\/1537\">ДОБРИВО ДЛЯ ДЕКОРАТИВНИХ ЛИСТОВИХ ВЕСНА-ЛІТО 3 кг<\/a><p class=\"key weight\">Вага<span>  <\/span><\/p><\/div>,\n",
       " <div class=\"info\"><a class=\"key\" full-name=\"ДОБРИВО ДЛЯ ВІЧНОЗЕЛЕНИХ ДЕРЕВ ТА КУЩІВ ВЕСНА-ЛІТО 10 кг\" href=\"\/products\/1538\">ДОБРИВО ДЛЯ ВІЧНОЗЕЛЕНИХ ДЕРЕВ ТА КУЩІВ ВЕСНА-ЛІТО 10 кг<\/a><p class=\"key weight\">Вага<span>  <\/span><\/p><\/div>,\n",
       " <div class=\"info\"><a class=\"key\" full-name=\"ДОБРИВО ДЛЯ ДЕКОРАТИВНИХ ЛИСТОВИХ ВЕСНА-ЛІТО 1 кг\" href=\"\/products\/1539\">ДОБРИВО ДЛЯ ДЕКОРАТИВНИХ ЛИСТОВИХ ВЕСНА-ЛІТО 1 кг<\/a><p class=\"key weight\">Вага<span>  <\/span><\/p><\/div>,\n",
       " <div class=\"info\"><a class=\"key\" full-name=\"ДОБРИВО ДЛЯ ОВОЧІВ 3 кг\" href=\"\/products\/1540\">ДОБРИВО ДЛЯ ОВОЧІВ 3 кг<\/a><p class=\"key weight\">Вага<span>  <\/span><\/p><\/div>,\n",
       " <div class=\"info\"><a class=\"key\" full-name=\"ДОБРИВО ДЛЯ ВИНОГРАДУ 1 кг\" href=\"\/products\/1541\">ДОБРИВО ДЛЯ ВИНОГРАДУ 1 кг<\/a><p class=\"key weight\">Вага<span>  <\/span><\/p><\/div>,\n",
       " <div class=\"info\">\n",
       " <p class=\"key\"> <\/p>\n",
       " <div class=\"alt\">\n",
       " <p class=\"group\"> <\/p>\n",
       " <p class=\"weight\">Вага: <span><\/span><\/p>\n",
       " <\/div>\n",
       " <\/div>]"
      ]
     },
     "metadata":{
      
     },
     "output_type":"display_data"
    }
   ],
   "metadata":{
    "datalore":{
     "node_id":"DFxRGyy4FoouBjzWqjTWYh",
     "type":"CODE",
     "hide_input_from_viewers":true,
     "hide_output_from_viewers":true
    }
   }
  },
  {
   "cell_type":"markdown",
   "source":[
    "Створіть базу даних, що містить таблицю із такими стовбцями: \n",
    "    - артикул товару\n",
    "    - найменування\n",
    "    - ціна \n",
    "    - вага"
   ],
   "attachments":{
    
   },
   "metadata":{
    "datalore":{
     "node_id":"8TPfK3VeRtO3TB2GSH9pOu",
     "type":"MD",
     "hide_input_from_viewers":false,
     "hide_output_from_viewers":false,
     "report_properties":{
      "rowId":"xtC6ulSU79gd8PKGjS9dUU"
     }
    }
   }
  },
  {
   "cell_type":"code",
   "source":[
    
   ],
   "execution_count":null,
   "outputs":[
    
   ],
   "metadata":{
    "datalore":{
     "node_id":"Z9iszlgkrqip0a1uN2hDh3",
     "type":"CODE",
     "hide_input_from_viewers":true,
     "hide_output_from_viewers":true
    }
   }
  },
  {
   "cell_type":"code",
   "source":[
    
   ],
   "execution_count":null,
   "outputs":[
    
   ],
   "metadata":{
    "datalore":{
     "node_id":"9KnshTt08yd4oNc5b0wbZm",
     "type":"CODE",
     "hide_input_from_viewers":false,
     "hide_output_from_viewers":false,
     "report_properties":{
      "rowId":"xtC6ulSU79gd8PKGjS9dUU"
     }
    }
   }
  },
  {
   "cell_type":"markdown",
   "source":[
    "### Завдання 3: "
   ],
   "attachments":{
    
   },
   "metadata":{
    "datalore":{
     "node_id":"PQ3CsqOPHNmnfYsZx6wanR",
     "type":"MD",
     "hide_input_from_viewers":false,
     "hide_output_from_viewers":false,
     "report_properties":{
      "rowId":"xtC6ulSU79gd8PKGjS9dUU"
     }
    }
   }
  },
  {
   "cell_type":"markdown",
   "source":[
    "Ознайомтеся із роботою SQLite та відповідним модулем у Python.\n",
    "Завантажте базу даних для виконання лабораторної роботи.\n",
    "Підключіться до завантаженої бази SQLite."
   ],
   "attachments":{
    
   },
   "metadata":{
    "datalore":{
     "node_id":"Y0W4LIPxB84PCLQBKc9vwU",
     "type":"MD",
     "hide_input_from_viewers":false,
     "hide_output_from_viewers":false,
     "report_properties":{
      "rowId":"xtC6ulSU79gd8PKGjS9dUU"
     }
    }
   }
  },
  {
   "cell_type":"markdown",
   "source":[
    "1. Виведіть інформацію про дану базу."
   ],
   "attachments":{
    
   },
   "metadata":{
    "datalore":{
     "node_id":"sIZoD3HJEtiXuOJCIPBVuO",
     "type":"MD",
     "hide_input_from_viewers":false,
     "hide_output_from_viewers":false,
     "report_properties":{
      "rowId":"xtC6ulSU79gd8PKGjS9dUU"
     }
    }
   }
  },
  {
   "cell_type":"code",
   "source":[
    "import sqlite3\n",
    "import pprint as pp\n",
    "\n",
    "con = sqlite3.connect('.\/tysql.sqlite')\n",
    "\n",
    "sql = '''\n",
    "SELECT * \n",
    "FROM sqlite_master \n",
    "WHERE type=\"table\"'''\n",
    "\n",
    "cur = con.cursor()\n",
    "cur.execute(sql)\n",
    "\n",
    "pp.pprint(cur.fetchall())"
   ],
   "execution_count":216,
   "outputs":[
    {
     "name":"stdout",
     "text":[
      "[('table',\n",
      "  'Customers',\n",
      "  'Customers',\n",
      "  2,\n",
      "  'CREATE TABLE Customers\\n'\n",
      "  '(\\n'\n",
      "  '  cust_id      char(10)  NOT NULL ,\\n'\n",
      "  '  cust_name    char(50)  NOT NULL ,\\n'\n",
      "  '  cust_address char(50)  NULL ,\\n'\n",
      "  '  cust_city    char(50)  NULL ,\\n'\n",
      "  '  cust_state   char(5)   NULL ,\\n'\n",
      "  '  cust_zip     char(10)  NULL ,\\n'\n",
      "  '  cust_country char(50)  NULL ,\\n'\n",
      "  '  cust_contact char(50)  NULL ,\\n'\n",
      "  '  cust_email   char(255) NULL ,\\n'\n",
      "  '  PRIMARY KEY (cust_id)\\n'\n",
      "  ')'),\n",
      " ('table',\n",
      "  'OrderItems',\n",
      "  'OrderItems',\n",
      "  4,\n",
      "  'CREATE TABLE OrderItems\\n'\n",
      "  '(\\n'\n",
      "  '  order_num  int          NOT NULL                      ,\\n'\n",
      "  '  order_item int          NOT NULL                      ,\\n'\n",
      "  '  prod_id    char(10)     NOT NULL                      ,\\n'\n",
      "  '  quantity   int          NOT NULL                      ,\\n'\n",
      "  '  item_price decimal(8,2) NOT NULL                      ,\\n'\n",
      "  '  PRIMARY KEY (order_num, order_item)                   ,\\n'\n",
      "  '  FOREIGN KEY (order_num) REFERENCES Orders (order_num) ,\\n'\n",
      "  '  FOREIGN KEY (prod_id) REFERENCES Products (prod_id)\\n'\n",
      "  ')'),\n",
      " ('table',\n",
      "  'Orders',\n",
      "  'Orders',\n",
      "  7,\n",
      "  'CREATE TABLE Orders\\n'\n",
      "  '(\\n'\n",
      "  '  order_num  int      NOT NULL ,\\n'\n",
      "  '  order_date datetime NOT NULL ,\\n'\n",
      "  '  cust_id    char(10) NOT NULL ,\\n'\n",
      "  '  PRIMARY KEY (order_num)      ,\\n'\n",
      "  '  FOREIGN KEY (cust_id) REFERENCES Customers (cust_id)\\n'\n",
      "  ')'),\n",
      " ('table',\n",
      "  'Products',\n",
      "  'Products',\n",
      "  10,\n",
      "  'CREATE TABLE Products\\n'\n",
      "  '(\\n'\n",
      "  '  prod_id    char(10)      NOT NULL ,\\n'\n",
      "  '  vend_id    char(10)      NOT NULL ,\\n'\n",
      "  '  prod_name  char(255)     NOT NULL ,\\n'\n",
      "  '  prod_price decimal(8,2)  NOT NULL ,\\n'\n",
      "  '  prod_desc  text          NULL     ,\\n'\n",
      "  '  PRIMARY KEY (prod_id)             ,\\n'\n",
      "  '  FOREIGN KEY (vend_id) REFERENCES Vendors (vend_id)\\n'\n",
      "  ')'),\n",
      " ('table',\n",
      "  'Vendors',\n",
      "  'Vendors',\n",
      "  12,\n",
      "  'CREATE TABLE Vendors\\n'\n",
      "  '(\\n'\n",
      "  '  vend_id      char(10) NOT NULL ,\\n'\n",
      "  '  vend_name    char(50) NOT NULL ,\\n'\n",
      "  '  vend_address char(50) NULL     ,\\n'\n",
      "  '  vend_city    char(50) NULL     ,\\n'\n",
      "  '  vend_state   char(5)  NULL     ,\\n'\n",
      "  '  vend_zip     char(10) NULL     ,\\n'\n",
      "  '  vend_country char(50) NULL     ,\\n'\n",
      "  '  PRIMARY KEY (vend_id)\\n'\n",
      "  ')')]\n"
     ],
     "output_type":"stream"
    }
   ],
   "metadata":{
    "datalore":{
     "node_id":"l8pEQOTPu05jf2sKLp3xSh",
     "type":"CODE",
     "hide_input_from_viewers":false,
     "hide_output_from_viewers":false,
     "report_properties":{
      "rowId":"xtC6ulSU79gd8PKGjS9dUU"
     }
    }
   }
  },
  {
   "cell_type":"markdown",
   "source":[
    "2. Виведіть перелік всіх таблиць."
   ],
   "attachments":{
    
   },
   "metadata":{
    "datalore":{
     "node_id":"1eDAvxPtKRlYitMDhGw0So",
     "type":"MD",
     "hide_input_from_viewers":false,
     "hide_output_from_viewers":false,
     "report_properties":{
      "rowId":"xtC6ulSU79gd8PKGjS9dUU"
     }
    }
   }
  },
  {
   "cell_type":"code",
   "source":[
    "sql = '''\n",
    "SELECT name \n",
    "FROM sqlite_master \n",
    "WHERE type=\"table\"'''\n",
    "\n",
    "cur.execute(sql)\n",
    "\n",
    "pp.pprint(cur.fetchall())"
   ],
   "execution_count":217,
   "outputs":[
    {
     "name":"stdout",
     "text":[
      "[('Customers',), ('OrderItems',), ('Orders',), ('Products',), ('Vendors',)]\n"
     ],
     "output_type":"stream"
    }
   ],
   "metadata":{
    "datalore":{
     "node_id":"X1N8H9h2OOkabJm0moIaKG",
     "type":"CODE",
     "hide_input_from_viewers":false,
     "hide_output_from_viewers":false,
     "report_properties":{
      "rowId":"xtC6ulSU79gd8PKGjS9dUU"
     }
    }
   }
  },
  {
   "cell_type":"markdown",
   "source":[
    "3. Список всіх cust_id з таблиці Customers table."
   ],
   "attachments":{
    
   },
   "metadata":{
    "datalore":{
     "node_id":"VQ3RdIsTPB16Y41mIMcooT",
     "type":"MD",
     "hide_input_from_viewers":false,
     "hide_output_from_viewers":false,
     "report_properties":{
      "rowId":"xtC6ulSU79gd8PKGjS9dUU"
     }
    }
   }
  },
  {
   "cell_type":"code",
   "source":[
    "sql = '''\n",
    "SELECT distinct cust_id \n",
    "FROM Customers'''\n",
    "\n",
    "cur.execute(sql)\n",
    "\n",
    "pp.pprint(cur.fetchall())"
   ],
   "execution_count":218,
   "outputs":[
    {
     "name":"stdout",
     "text":[
      "[('1000000001',),\n",
      " ('1000000002',),\n",
      " ('1000000003',),\n",
      " ('1000000004',),\n",
      " ('1000000005',)]\n"
     ],
     "output_type":"stream"
    }
   ],
   "metadata":{
    "datalore":{
     "node_id":"Wghcfjk8V40yYCM476l2vY",
     "type":"CODE",
     "hide_input_from_viewers":false,
     "hide_output_from_viewers":false,
     "report_properties":{
      "rowId":"xtC6ulSU79gd8PKGjS9dUU"
     }
    }
   }
  },
  {
   "cell_type":"markdown",
   "source":[
    "4. Всю таблицю Customers table"
   ],
   "attachments":{
    
   },
   "metadata":{
    "datalore":{
     "node_id":"o9GUSfXe1yRxagzhfeTCxb",
     "type":"MD",
     "hide_input_from_viewers":false,
     "hide_output_from_viewers":false,
     "report_properties":{
      "rowId":"xtC6ulSU79gd8PKGjS9dUU"
     }
    }
   }
  },
  {
   "cell_type":"code",
   "source":[
    "sql = '''\n",
    "SELECT * \n",
    "FROM Customers'''\n",
    "\n",
    "cur.execute(sql)\n",
    "\n",
    "pp.pprint(cur.fetchall())"
   ],
   "execution_count":219,
   "outputs":[
    {
     "name":"stdout",
     "text":[
      "[('1000000001',\n",
      "  'Village Toys',\n",
      "  '200 Maple Lane',\n",
      "  'Detroit',\n",
      "  'MI',\n",
      "  '44444',\n",
      "  'USA',\n",
      "  'John Smith',\n",
      "  'sales@villagetoys.com'),\n",
      " ('1000000002',\n",
      "  'Kids Place',\n",
      "  '333 South Lake Drive',\n",
      "  'Columbus',\n",
      "  'OH',\n",
      "  '43333',\n",
      "  'USA',\n",
      "  'Michelle Green',\n",
      "  None),\n",
      " ('1000000003',\n",
      "  'Fun4All',\n",
      "  '1 Sunny Place',\n",
      "  'Muncie',\n",
      "  'IN',\n",
      "  '42222',\n",
      "  'USA',\n",
      "  'Jim Jones',\n",
      "  'jjones@fun4all.com'),\n",
      " ('1000000004',\n",
      "  'Fun4All',\n",
      "  '829 Riverside Drive',\n",
      "  'Phoenix',\n",
      "  'AZ',\n",
      "  '88888',\n",
      "  'USA',\n",
      "  'Denise L. Stephens',\n",
      "  'dstephens@fun4all.com'),\n",
      " ('1000000005',\n",
      "  'The Toy Store',\n",
      "  '4545 53rd Street',\n",
      "  'Chicago',\n",
      "  'IL',\n",
      "  '54545',\n",
      "  'USA',\n",
      "  'Kim Howard',\n",
      "  None)]\n"
     ],
     "output_type":"stream"
    }
   ],
   "metadata":{
    "datalore":{
     "node_id":"3qbxqTe7sqUxPbRIqp81zA",
     "type":"CODE",
     "hide_input_from_viewers":false,
     "hide_output_from_viewers":false,
     "report_properties":{
      "rowId":"xtC6ulSU79gd8PKGjS9dUU"
     }
    }
   }
  },
  {
   "cell_type":"markdown",
   "source":[
    "5. Список клієнтів (cust_names) відсортованих від Z до A"
   ],
   "attachments":{
    
   },
   "metadata":{
    "datalore":{
     "node_id":"Bik2P1TqippRCUHCjBRVGZ",
     "type":"MD",
     "hide_input_from_viewers":false,
     "hide_output_from_viewers":false,
     "report_properties":{
      "rowId":"xtC6ulSU79gd8PKGjS9dUU"
     }
    }
   }
  },
  {
   "cell_type":"code",
   "source":[
    "sql = '''\n",
    "SELECT distinct cust_name \n",
    "FROM Customers\n",
    "order by cust_name desc'''\n",
    "\n",
    "cur.execute(sql)\n",
    "\n",
    "pp.pprint(cur.fetchall())"
   ],
   "execution_count":223,
   "outputs":[
    {
     "name":"stdout",
     "text":[
      "[('Village Toys',), ('The Toy Store',), ('Kids Place',), ('Fun4All',)]\n"
     ],
     "output_type":"stream"
    }
   ],
   "metadata":{
    "datalore":{
     "node_id":"SzBfW2An0ZI5KQUtofSqns",
     "type":"CODE",
     "hide_input_from_viewers":false,
     "hide_output_from_viewers":false,
     "report_properties":{
      "rowId":"xtC6ulSU79gd8PKGjS9dUU"
     }
    }
   }
  },
  {
   "cell_type":"markdown",
   "source":[
    "6. Таблицю клієнтів та замовлень (cust_id і order_num) . Відсортуйте по клієнту і потім по даті замовлення"
   ],
   "attachments":{
    
   },
   "metadata":{
    "datalore":{
     "node_id":"bZHDbguXdVFblsfFGTfXyS",
     "type":"MD",
     "hide_input_from_viewers":false,
     "hide_output_from_viewers":false,
     "report_properties":{
      "rowId":"xtC6ulSU79gd8PKGjS9dUU"
     }
    }
   }
  },
  {
   "cell_type":"code",
   "source":[
    "sql = '''\n",
    "SELECT distinct * \n",
    "FROM Customers c\n",
    "join Orders o on c.cust_id = o.cust_id\n",
    "order by cust_name, order_date'''\n",
    "\n",
    "cur.execute(sql)\n",
    "\n",
    "pp.pprint(cur.fetchall())"
   ],
   "execution_count":225,
   "outputs":[
    {
     "name":"stdout",
     "text":[
      "[('1000000003',\n",
      "  'Fun4All',\n",
      "  '1 Sunny Place',\n",
      "  'Muncie',\n",
      "  'IN',\n",
      "  '42222',\n",
      "  'USA',\n",
      "  'Jim Jones',\n",
      "  'jjones@fun4all.com',\n",
      "  20006,\n",
      "  '2012-01-12',\n",
      "  '1000000003'),\n",
      " ('1000000004',\n",
      "  'Fun4All',\n",
      "  '829 Riverside Drive',\n",
      "  'Phoenix',\n",
      "  'AZ',\n",
      "  '88888',\n",
      "  'USA',\n",
      "  'Denise L. Stephens',\n",
      "  'dstephens@fun4all.com',\n",
      "  20007,\n",
      "  '2012-01-30',\n",
      "  '1000000004'),\n",
      " ('1000000005',\n",
      "  'The Toy Store',\n",
      "  '4545 53rd Street',\n",
      "  'Chicago',\n",
      "  'IL',\n",
      "  '54545',\n",
      "  'USA',\n",
      "  'Kim Howard',\n",
      "  None,\n",
      "  20008,\n",
      "  '2012-02-03',\n",
      "  '1000000005'),\n",
      " ('1000000001',\n",
      "  'Village Toys',\n",
      "  '200 Maple Lane',\n",
      "  'Detroit',\n",
      "  'MI',\n",
      "  '44444',\n",
      "  'USA',\n",
      "  'John Smith',\n",
      "  'sales@villagetoys.com',\n",
      "  20009,\n",
      "  '2012-02-08',\n",
      "  '1000000001'),\n",
      " ('1000000001',\n",
      "  'Village Toys',\n",
      "  '200 Maple Lane',\n",
      "  'Detroit',\n",
      "  'MI',\n",
      "  '44444',\n",
      "  'USA',\n",
      "  'John Smith',\n",
      "  'sales@villagetoys.com',\n",
      "  20005,\n",
      "  '2012-05-01',\n",
      "  '1000000001')]\n"
     ],
     "output_type":"stream"
    }
   ],
   "metadata":{
    "datalore":{
     "node_id":"RkKt9wxA6AxSZs3gcNj8Ar",
     "type":"CODE",
     "hide_input_from_viewers":false,
     "hide_output_from_viewers":false,
     "report_properties":{
      "rowId":"xtC6ulSU79gd8PKGjS9dUU"
     }
    }
   }
  },
  {
   "cell_type":"markdown",
   "source":[
    "7. Таблицю (на основі Items) з кількість та вартістю товару. Відсортуйте в порядку спадання по кількості та вартості"
   ],
   "attachments":{
    
   },
   "metadata":{
    "datalore":{
     "node_id":"NgEYlQ5OL3FF8ylzPJnFj3",
     "type":"MD",
     "hide_input_from_viewers":false,
     "hide_output_from_viewers":false,
     "report_properties":{
      "rowId":"xtC6ulSU79gd8PKGjS9dUU"
     }
    }
   }
  },
  {
   "cell_type":"code",
   "source":[
    "sql = '''\n",
    "SELECT order_item, sum(quantity) as quantity, sum(item_price) as price\n",
    "FROM OrderItems\n",
    "group by order_item\n",
    "order by sum(quantity) desc, sum(item_price) desc'''\n",
    "\n",
    "\n",
    "\n",
    "cur.execute(sql)\n",
    "\n",
    "pp.pprint(cur.fetchall())"
   ],
   "execution_count":233,
   "outputs":[
    {
     "name":"stdout",
     "text":[
      "[(2, 465, 37.45),\n",
      " (1, 425, 30.450000000000003),\n",
      " (3, 370, 20.96),\n",
      " (4, 110, 6.48),\n",
      " (5, 60, 7.98)]\n"
     ],
     "output_type":"stream"
    }
   ],
   "metadata":{
    "datalore":{
     "node_id":"aCnX0CWrqS9jo4ObDj3wjw",
     "type":"CODE",
     "hide_input_from_viewers":false,
     "hide_output_from_viewers":false,
     "report_properties":{
      "rowId":"xtC6ulSU79gd8PKGjS9dUU"
     }
    }
   }
  },
  {
   "cell_type":"markdown",
   "source":[
    "8. Товар (з таблиці Products), ціна якого становить 9.49"
   ],
   "attachments":{
    
   },
   "metadata":{
    "datalore":{
     "node_id":"uGgtIAolHxEdYrqZeVTkQb",
     "type":"MD",
     "hide_input_from_viewers":false,
     "hide_output_from_viewers":false,
     "report_properties":{
      "rowId":"xtC6ulSU79gd8PKGjS9dUU"
     }
    }
   }
  },
  {
   "cell_type":"code",
   "source":[
    "sql = '''\n",
    "SELECT prod_name\n",
    "FROM Products\n",
    "where prod_price = 9.49'''\n",
    "\n",
    "\n",
    "\n",
    "cur.execute(sql)\n",
    "\n",
    "pp.pprint(cur.fetchall())"
   ],
   "execution_count":237,
   "outputs":[
    {
     "name":"stdout",
     "text":[
      "[('King doll',), ('Queen doll',)]\n"
     ],
     "output_type":"stream"
    }
   ],
   "metadata":{
    "datalore":{
     "node_id":"GMuTAMAhXGUE5K20UUM36M",
     "type":"CODE",
     "hide_input_from_viewers":false,
     "hide_output_from_viewers":false,
     "report_properties":{
      "rowId":"xtC6ulSU79gd8PKGjS9dUU"
     }
    }
   }
  },
  {
   "cell_type":"markdown",
   "source":[
    "9. Виведіть назву товару та ціну, яка лежить в діапазоні від  3 до 6. Відсортуйте результат в по ціні в порядку зростання"
   ],
   "attachments":{
    
   },
   "metadata":{
    "datalore":{
     "node_id":"noPHnoKO36JdJsmUZ6O271",
     "type":"MD",
     "hide_input_from_viewers":false,
     "hide_output_from_viewers":false,
     "report_properties":{
      "rowId":"xtC6ulSU79gd8PKGjS9dUU"
     }
    }
   }
  },
  {
   "cell_type":"code",
   "source":[
    "sql = '''\n",
    "SELECT prod_name, prod_price\n",
    "FROM Products\n",
    "where prod_price between 3 and 6\n",
    "order by prod_price'''\n",
    "\n",
    "\n",
    "\n",
    "cur.execute(sql)\n",
    "\n",
    "pp.pprint(cur.fetchall())"
   ],
   "execution_count":244,
   "outputs":[
    {
     "name":"stdout",
     "text":[
      "[('Fish bean bag toy', 3.49),\n",
      " ('Bird bean bag toy', 3.49),\n",
      " ('Rabbit bean bag toy', 3.49),\n",
      " ('Raggedy Ann', 4.99),\n",
      " ('8 inch teddy bear', 5.99)]\n"
     ],
     "output_type":"stream"
    }
   ],
   "metadata":{
    "datalore":{
     "node_id":"aAAxmcgeJZvZCRcOzuF8of",
     "type":"CODE",
     "hide_input_from_viewers":false,
     "hide_output_from_viewers":false,
     "report_properties":{
      "rowId":"xtC6ulSU79gd8PKGjS9dUU"
     }
    }
   }
  },
  {
   "cell_type":"markdown",
   "source":[
    "10. Кількість товару, що було продано"
   ],
   "attachments":{
    
   },
   "metadata":{
    "datalore":{
     "node_id":"f10mylXBIOFC99MnSAyC1z",
     "type":"MD",
     "hide_input_from_viewers":false,
     "hide_output_from_viewers":false,
     "report_properties":{
      "rowId":"xtC6ulSU79gd8PKGjS9dUU"
     }
    }
   }
  },
  {
   "cell_type":"code",
   "source":[
    "sql = '''\n",
    "SELECT sum(quantity) as quantity\n",
    "FROM OrderItems\n",
    "'''\n",
    "\n",
    "cur.execute(sql)\n",
    "\n",
    "pp.pprint(cur.fetchall())"
   ],
   "execution_count":242,
   "outputs":[
    {
     "name":"stdout",
     "text":[
      "[(1430,)]\n"
     ],
     "output_type":"stream"
    }
   ],
   "metadata":{
    "datalore":{
     "node_id":"ihoeUwC0pfKGBGE1EL3Ku7",
     "type":"CODE",
     "hide_input_from_viewers":false,
     "hide_output_from_viewers":false,
     "report_properties":{
      "rowId":"xtC6ulSU79gd8PKGjS9dUU"
     }
    }
   }
  },
  {
   "cell_type":"markdown",
   "source":[
    "11. Кількість найменувань товару, ціна якого більша за 4"
   ],
   "attachments":{
    
   },
   "metadata":{
    "datalore":{
     "node_id":"nv07gRdyB3u0xqOgE7RX9Z",
     "type":"MD",
     "hide_input_from_viewers":false,
     "hide_output_from_viewers":false,
     "report_properties":{
      "rowId":"xtC6ulSU79gd8PKGjS9dUU"
     }
    }
   }
  },
  {
   "cell_type":"code",
   "source":[
    "sql = '''\n",
    "SELECT count(prod_name)\n",
    "FROM Products\n",
    "where prod_price > 4'''\n",
    "\n",
    "\n",
    "\n",
    "cur.execute(sql)\n",
    "\n",
    "pp.pprint(cur.fetchall())"
   ],
   "execution_count":243,
   "outputs":[
    {
     "name":"stdout",
     "text":[
      "[(6,)]\n"
     ],
     "output_type":"stream"
    }
   ],
   "metadata":{
    "datalore":{
     "node_id":"SCoi0eHd4MPFrzUmT7aGgg",
     "type":"CODE",
     "hide_input_from_viewers":false,
     "hide_output_from_viewers":false,
     "report_properties":{
      "rowId":"xtC6ulSU79gd8PKGjS9dUU"
     }
    }
   }
  },
  {
   "cell_type":"markdown",
   "source":[
    "12. Розробіть алгоритм для виведення 3 найдорожчих товарів в базі"
   ],
   "attachments":{
    
   },
   "metadata":{
    "datalore":{
     "node_id":"v4XqKNsJpVmjrNc4pNAyLQ",
     "type":"MD",
     "hide_input_from_viewers":false,
     "hide_output_from_viewers":false,
     "report_properties":{
      "rowId":"xtC6ulSU79gd8PKGjS9dUU"
     }
    }
   }
  },
  {
   "cell_type":"code",
   "source":[
    "sql = '''\n",
    "SELECT prod_name, prod_price\n",
    "FROM Products\n",
    "order by prod_price desc\n",
    "limit 3'''\n",
    "\n",
    "\n",
    "\n",
    "cur.execute(sql)\n",
    "\n",
    "pp.pprint(cur.fetchall())"
   ],
   "execution_count":248,
   "outputs":[
    {
     "name":"stdout",
     "text":[
      "[('18 inch teddy bear', 11.99), ('King doll', 9.49), ('Queen doll', 9.49)]\n"
     ],
     "output_type":"stream"
    }
   ],
   "metadata":{
    "datalore":{
     "node_id":"nmvFkZvFaPW9S5BO0P007q",
     "type":"CODE",
     "hide_input_from_viewers":false,
     "hide_output_from_viewers":false,
     "report_properties":{
      "rowId":"xtC6ulSU79gd8PKGjS9dUU"
     }
    }
   }
  },
  {
   "cell_type":"markdown",
   "source":[
    "13. Підрахуйте кількість замовлень для кожного клієнта використовуючи підзапити"
   ],
   "attachments":{
    
   },
   "metadata":{
    "datalore":{
     "node_id":"suPPtxXqib6wZVEZZwPAQL",
     "type":"MD",
     "hide_input_from_viewers":false,
     "hide_output_from_viewers":false,
     "report_properties":{
      "rowId":"xtC6ulSU79gd8PKGjS9dUU"
     }
    }
   }
  },
  {
   "cell_type":"code",
   "source":[
    "sql = \"\"\"\n",
    "SELECT cust_name, \n",
    "(\n",
    "SELECT count(order_num)\n",
    "FROM Orders\n",
    "WHERE Orders.cust_id = Customers.cust_id\n",
    ")\n",
    "customer_orders_count\n",
    "FROM Customers\n",
    "\"\"\"\n",
    "\n",
    "cur.execute(sql)\n",
    "\n",
    "pp.pprint(cur.fetchall())"
   ],
   "execution_count":249,
   "outputs":[
    {
     "name":"stdout",
     "text":[
      "[('Village Toys', 2),\n",
      " ('Fun4All', 1),\n",
      " ('Fun4All', 1),\n",
      " ('The Toy Store', 1),\n",
      " ('Kids Place', 0)]\n"
     ],
     "output_type":"stream"
    }
   ],
   "metadata":{
    "datalore":{
     "node_id":"qBiXL8JixlBDfiHxXDwmf3",
     "type":"CODE",
     "hide_input_from_viewers":false,
     "hide_output_from_viewers":false,
     "report_properties":{
      "rowId":"xtC6ulSU79gd8PKGjS9dUU"
     }
    }
   }
  },
  {
   "cell_type":"markdown",
   "source":[
    "14. Виведіть список клієнтів та їх замовлення (використайте JOIN)"
   ],
   "attachments":{
    
   },
   "metadata":{
    "datalore":{
     "node_id":"AebOFcLKPC6a450ZIFdzMq",
     "type":"MD",
     "hide_input_from_viewers":false,
     "hide_output_from_viewers":false,
     "report_properties":{
      "rowId":"xtC6ulSU79gd8PKGjS9dUU"
     }
    }
   }
  },
  {
   "cell_type":"code",
   "source":[
    "sql = \"\"\"\n",
    "SELECT cust_name, order_num\n",
    "FROM Customers\n",
    "JOIN Orders ON Customers.cust_id = Orders.cust_id\n",
    "\"\"\"\n",
    "\n",
    "cur.execute(sql)\n",
    "\n",
    "pp.pprint(cur.fetchall())"
   ],
   "execution_count":251,
   "outputs":[
    {
     "name":"stdout",
     "text":[
      "[('Village Toys', 20005),\n",
      " ('Fun4All', 20006),\n",
      " ('Fun4All', 20007),\n",
      " ('The Toy Store', 20008),\n",
      " ('Village Toys', 20009)]\n"
     ],
     "output_type":"stream"
    }
   ],
   "metadata":{
    "datalore":{
     "node_id":"E3g4smUeUFhyzuSIqPUIMA",
     "type":"CODE",
     "hide_input_from_viewers":false,
     "hide_output_from_viewers":false,
     "report_properties":{
      "rowId":"xtC6ulSU79gd8PKGjS9dUU"
     }
    }
   }
  },
  {
   "cell_type":"markdown",
   "source":[
    "15. Зробіть два запити: список товарів, ціна яких менша 5 та список товарів, ціна який більша рівна 5. Використайте UNION для об'єднання цих запитів"
   ],
   "attachments":{
    
   },
   "metadata":{
    "datalore":{
     "node_id":"KkPz9j17FZrw0frSlVCAIl",
     "type":"MD",
     "hide_input_from_viewers":false,
     "hide_output_from_viewers":false,
     "report_properties":{
      "rowId":"xtC6ulSU79gd8PKGjS9dUU"
     }
    }
   }
  },
  {
   "cell_type":"code",
   "source":[
    "sql = '''\n",
    "SELECT *\n",
    "FROM Products\n",
    "where prod_price < 5\n",
    "union\n",
    "SELECT *\n",
    "FROM Products\n",
    "where prod_price >= 5'''\n",
    "\n",
    "\n",
    "\n",
    "cur.execute(sql)\n",
    "\n",
    "pp.pprint(cur.fetchall())"
   ],
   "execution_count":252,
   "outputs":[
    {
     "name":"stdout",
     "text":[
      "[('BNBG01',\n",
      "  'DLL01',\n",
      "  'Fish bean bag toy',\n",
      "  3.49,\n",
      "  'Fish bean bag toy, complete with bean bag worms with which to feed it'),\n",
      " ('BNBG02',\n",
      "  'DLL01',\n",
      "  'Bird bean bag toy',\n",
      "  3.49,\n",
      "  'Bird bean bag toy, eggs are not included'),\n",
      " ('BNBG03',\n",
      "  'DLL01',\n",
      "  'Rabbit bean bag toy',\n",
      "  3.49,\n",
      "  'Rabbit bean bag toy, comes with bean bag carrots'),\n",
      " ('BR01',\n",
      "  'BRS01',\n",
      "  '8 inch teddy bear',\n",
      "  5.99,\n",
      "  '8 inch teddy bear, comes with cap and jacket'),\n",
      " ('BR02',\n",
      "  'BRS01',\n",
      "  '12 inch teddy bear',\n",
      "  8.99,\n",
      "  '12 inch teddy bear, comes with cap and jacket'),\n",
      " ('BR03',\n",
      "  'BRS01',\n",
      "  '18 inch teddy bear',\n",
      "  11.99,\n",
      "  '18 inch teddy bear, comes with cap and jacket'),\n",
      " ('RGAN01', 'DLL01', 'Raggedy Ann', 4.99, '18 inch Raggedy Ann doll'),\n",
      " ('RYL01',\n",
      "  'FNG01',\n",
      "  'King doll',\n",
      "  9.49,\n",
      "  '12 inch king doll with royal garments and crown'),\n",
      " ('RYL02',\n",
      "  'FNG01',\n",
      "  'Queen doll',\n",
      "  9.49,\n",
      "  '12 inch queen doll with royal garments and crown')]\n"
     ],
     "output_type":"stream"
    }
   ],
   "metadata":{
    "datalore":{
     "node_id":"Bgs8nlO2YDouZQC7mv34MG",
     "type":"CODE",
     "hide_input_from_viewers":false,
     "hide_output_from_viewers":false,
     "report_properties":{
      "rowId":"xtC6ulSU79gd8PKGjS9dUU"
     }
    }
   }
  },
  {
   "cell_type":"markdown",
   "source":[
    "### Завдання 4: "
   ],
   "attachments":{
    
   },
   "metadata":{
    "datalore":{
     "node_id":"rrwJA1GMm8f1FpC77atoHM",
     "type":"MD",
     "hide_input_from_viewers":false,
     "hide_output_from_viewers":false,
     "report_properties":{
      "rowId":"xtC6ulSU79gd8PKGjS9dUU"
     }
    }
   }
  },
  {
   "cell_type":"markdown",
   "source":[
    "Зареєструйтеся на сайті  http:\/\/www.sql-ex.ru\/\n",
    "\n",
    "Виконайте завдання із блоку SELECT; з 1 по 30 завдання\n",
    "\n",
    "Код запитів вставляйте сюди"
   ],
   "attachments":{
    
   },
   "metadata":{
    "datalore":{
     "node_id":"SAc3m51mcXmJcmr5nzfqnj",
     "type":"MD",
     "hide_input_from_viewers":false,
     "hide_output_from_viewers":false,
     "report_properties":{
      "rowId":"xtC6ulSU79gd8PKGjS9dUU"
     }
    }
   }
  },
  {
   "cell_type":"markdown",
   "source":[
    "1.\n",
    "select model,speed,hd from PC\n",
    "where price < 500"
   ],
   "attachments":{
    
   },
   "metadata":{
    "datalore":{
     "node_id":"yOWSVnIgxuZLe6p30MD5RL",
     "type":"MD",
     "hide_input_from_viewers":true,
     "hide_output_from_viewers":true
    }
   }
  },
  {
   "cell_type":"markdown",
   "source":[
    "2. select distinct maker from Product\n",
    "where type = 'Printer'\n",
    "\n",
    "\n"
   ],
   "attachments":{
    
   },
   "metadata":{
    "datalore":{
     "node_id":"Bg4pGT2xtYQ0yQcdnRZmwJ",
     "type":"MD",
     "hide_input_from_viewers":true,
     "hide_output_from_viewers":true
    }
   }
  },
  {
   "cell_type":"markdown",
   "source":[
    "3.select model,ram,screen from laptop\n",
    "where price > 1000\n"
   ],
   "attachments":{
    
   },
   "metadata":{
    "datalore":{
     "node_id":"Lo4KyCQMR1BcbpMrI9SYb8",
     "type":"MD",
     "hide_input_from_viewers":true,
     "hide_output_from_viewers":true
    }
   }
  },
  {
   "cell_type":"markdown",
   "source":[
    "4.select * from printer\n",
    "where color = 'y'\n"
   ],
   "attachments":{
    
   },
   "metadata":{
    "datalore":{
     "node_id":"kt9NUXVOpVbeFN4aFT4pP2",
     "type":"MD",
     "hide_input_from_viewers":true,
     "hide_output_from_viewers":true
    }
   }
  },
  {
   "cell_type":"markdown",
   "source":[
    "5.select distinct model,speed, hd from pc\n",
    "where (cd='12x' or cd='24x')and price<600"
   ],
   "attachments":{
    
   },
   "metadata":{
    "datalore":{
     "node_id":"uMNnaliQhJoI33HNHdixIb",
     "type":"MD",
     "hide_input_from_viewers":true,
     "hide_output_from_viewers":true
    }
   }
  },
  {
   "cell_type":"markdown",
   "source":[
    "6.SELECT distinct Product.maker, Laptop.speed FROM Product \n",
    "INNER JOIN  laptop ON product.model = laptop.model\n",
    "where Laptop.hd >= 10"
   ],
   "attachments":{
    
   },
   "metadata":{
    "datalore":{
     "node_id":"HUnblN9KjmX0ekuFxolZz1",
     "type":"MD",
     "hide_input_from_viewers":true,
     "hide_output_from_viewers":true
    }
   }
  },
  {
   "cell_type":"markdown",
   "source":[
    "7.SELECT model, price \n",
    "FROM PC \n",
    "WHERE model IN (SELECT model \n",
    " FROM Product \n",
    " WHERE maker = 'B' AND \n",
    " type = 'PC'\n",
    " )\n",
    "UNION\n",
    "SELECT model, price \n",
    "FROM Laptop \n",
    "WHERE model IN (SELECT model \n",
    " FROM Product \n",
    " WHERE maker = 'B' AND \n",
    " type = 'Laptop'\n",
    " )\n",
    "UNION\n",
    "SELECT model, price \n",
    "FROM Printer \n",
    "WHERE model IN (SELECT model \n",
    " FROM Product \n",
    " WHERE maker = 'B' AND \n",
    " type = 'Printer'\n",
    ")"
   ],
   "attachments":{
    
   },
   "metadata":{
    "datalore":{
     "node_id":"gEEcZZ1VnEAL8ME9z82znz",
     "type":"MD",
     "hide_input_from_viewers":true,
     "hide_output_from_viewers":true
    }
   }
  },
  {
   "cell_type":"markdown",
   "source":[
    "8.SELECT maker FROM product\n",
    "where type='pc'\n",
    "EXCEPT\n",
    "SELECT maker FROM product\n",
    "where type='laptop'"
   ],
   "attachments":{
    
   },
   "metadata":{
    "datalore":{
     "node_id":"HPeSL4nYoCvs41cU3sbRye",
     "type":"MD",
     "hide_input_from_viewers":true,
     "hide_output_from_viewers":true
    }
   }
  },
  {
   "cell_type":"markdown",
   "source":[
    "9.select distinct  maker from product\n",
    "join pc on pc.model=product.model\n",
    "where speed>=450"
   ],
   "attachments":{
    
   },
   "metadata":{
    "datalore":{
     "node_id":"vqhsIgq5epOUfugwaRDq0v",
     "type":"MD",
     "hide_input_from_viewers":true,
     "hide_output_from_viewers":true
    }
   }
  },
  {
   "cell_type":"markdown",
   "source":[
    "10.SELECT DISTINCT model, price\n",
    "FROM printer\n",
    "WHERE price = (SELECT Max(price) \n",
    " FROM printer\n",
    " )\n"
   ],
   "attachments":{
    
   },
   "metadata":{
    "datalore":{
     "node_id":"lrdKr2HpPjcn2BJiAkXT2F",
     "type":"MD",
     "hide_input_from_viewers":true,
     "hide_output_from_viewers":true
    }
   }
  },
  {
   "cell_type":"markdown",
   "source":[
    "11.select AVG(speed) as avg from pc"
   ],
   "attachments":{
    
   },
   "metadata":{
    "datalore":{
     "node_id":"gXP4gNri2307FUcBt3EZ8E",
     "type":"MD",
     "hide_input_from_viewers":true,
     "hide_output_from_viewers":true
    }
   }
  },
  {
   "cell_type":"markdown",
   "source":[
    "12.select AVG(speed) as avg from laptop\n",
    "where price>1000"
   ],
   "attachments":{
    
   },
   "metadata":{
    "datalore":{
     "node_id":"qC6xygUk1EE43u8Ft5ljIp",
     "type":"MD",
     "hide_input_from_viewers":true,
     "hide_output_from_viewers":true
    }
   }
  },
  {
   "cell_type":"markdown",
   "source":[
    "13.select AVG(speed) as avg from pc\n",
    "join product on product.model=pc.model\n",
    "where maker = 'a'"
   ],
   "attachments":{
    
   },
   "metadata":{
    "datalore":{
     "node_id":"SlgPSODAt58M58MLPCs2jW",
     "type":"MD",
     "hide_input_from_viewers":true,
     "hide_output_from_viewers":true
    }
   }
  },
  {
   "cell_type":"markdown",
   "source":[
    "14.select ships.class, ships.name, country\n",
    "from ships\n",
    "join classes on classes.class = ships.class\n",
    "where numguns >= 10"
   ],
   "attachments":{
    
   },
   "metadata":{
    "datalore":{
     "node_id":"3pzxOD1iDA9eVijWzqYRNw",
     "type":"MD",
     "hide_input_from_viewers":true,
     "hide_output_from_viewers":true
    }
   }
  },
  {
   "cell_type":"markdown",
   "source":[
    "15.select distinct hd\n",
    "from pc\n",
    "group by hd\n",
    "having count(hd) >= 2"
   ],
   "attachments":{
    
   },
   "metadata":{
    "datalore":{
     "node_id":"7K3ZoZzIHHcuEmbwl9UmNe",
     "type":"MD",
     "hide_input_from_viewers":true,
     "hide_output_from_viewers":true
    }
   }
  },
  {
   "cell_type":"markdown",
   "source":[
    "16.SELECT DISTINCT p1.model, p2.model, p1.speed, p1.ram FROM PC as p1\n",
    "INNER JOIN pc as p2 on p1.model <> p2.model\n",
    "WHERE \n",
    "p1.speed = p2.speed\n",
    "AND\n",
    "p1.ram = p2.ram\n",
    "AND\n",
    "p1.model > p2.model\n"
   ],
   "attachments":{
    
   },
   "metadata":{
    "datalore":{
     "node_id":"gZDVqjCubAHJBqbECxXXYE",
     "type":"MD",
     "hide_input_from_viewers":true,
     "hide_output_from_viewers":true
    }
   }
  },
  {
   "cell_type":"markdown",
   "source":[
    "17.select type, laptop.model, laptop.speed\n",
    "from laptop, pc, product\n",
    "where type = 'laptop'\n",
    "\n",
    "group by type, laptop.model, laptop.speed\n",
    "having  laptop.speed < min(pc.speed)\n"
   ],
   "attachments":{
    
   },
   "metadata":{
    "datalore":{
     "node_id":"DL0IAqDneQ7n4MQaFxyBZF",
     "type":"MD",
     "hide_input_from_viewers":true,
     "hide_output_from_viewers":true
    }
   }
  },
  {
   "cell_type":"markdown",
   "source":[
    "18.SELECT  maker, price\n",
    "FROM printer\n",
    "join product on product.model = printer.model\n",
    "WHERE printer.price = (SELECT Min(price) \n",
    " FROM printer where color='y')\n",
    "group by  maker, price, color\n",
    "having color = 'y'\n"
   ],
   "attachments":{
    
   },
   "metadata":{
    "datalore":{
     "node_id":"4adVp4xYEGGZE2OFqxieyv",
     "type":"MD",
     "hide_input_from_viewers":true,
     "hide_output_from_viewers":true
    }
   }
  },
  {
   "cell_type":"markdown",
   "source":[
    "19.SELECT maker, avg(screen) as screen\n",
    "from product\n",
    "join laptop on product.model = laptop.model\n",
    "GROUP BY maker, type"
   ],
   "attachments":{
    
   },
   "metadata":{
    "datalore":{
     "node_id":"AlIV2IPNzGpiOCAkHYsAxw",
     "type":"MD",
     "hide_input_from_viewers":true,
     "hide_output_from_viewers":true
    }
   }
  },
  {
   "cell_type":"markdown",
   "source":[
    "20.Select  maker, count(model) as count_model\n",
    "from product\n",
    "where type = 'pc'\n",
    "group by product.maker\n",
    "having count(model) >= 3\n"
   ],
   "attachments":{
    
   },
   "metadata":{
    "datalore":{
     "node_id":"utHFXuyLIDeWvqmqkwSElS",
     "type":"MD",
     "hide_input_from_viewers":true,
     "hide_output_from_viewers":true
    }
   }
  },
  {
   "cell_type":"markdown",
   "source":[
    "21.SELECT maker, max(price) as price\n",
    "from product\n",
    "join pc on product.model = pc.model\n",
    "GROUP BY maker\n"
   ],
   "attachments":{
    
   },
   "metadata":{
    "datalore":{
     "node_id":"FwWSdkopZ6f8pFBhKlC1tV",
     "type":"MD",
     "hide_input_from_viewers":true,
     "hide_output_from_viewers":true
    }
   }
  },
  {
   "cell_type":"markdown",
   "source":[
    "22.SELECT speed, avg(price) as price\n",
    "from product\n",
    "join pc on product.model = pc.model\n",
    "GROUP BY speed\n",
    "having speed > 600\n"
   ],
   "attachments":{
    
   },
   "metadata":{
    "datalore":{
     "node_id":"UUNx1KiaaLH7sJc420tESV",
     "type":"MD",
     "hide_input_from_viewers":true,
     "hide_output_from_viewers":true
    }
   }
  },
  {
   "cell_type":"markdown",
   "source":[
    "\n",
    "23.SELECT maker FROM product\n",
    "INNER JOIN pc ON product.model = pc.model\n",
    "WHERE pc.speed >= 750\n",
    "\n",
    "INTERSECT\n",
    "\n",
    "SELECT maker FROM product\n",
    "INNER JOIN laptop as l ON product.model = l.model\n",
    "WHERE l.speed >= 750"
   ],
   "attachments":{
    
   },
   "metadata":{
    "datalore":{
     "node_id":"4SCR63Oa4NaWz0O5Qmb1ZJ",
     "type":"MD",
     "hide_input_from_viewers":true,
     "hide_output_from_viewers":true
    }
   }
  },
  {
   "cell_type":"markdown",
   "source":[
    "24.WITH All_products AS (\n",
    "SELECT price, model FROM pc\n",
    "UNION ALL SELECT price, model FROM laptop\n",
    "UNION ALL SELECT price, model FROM printer\n",
    ")\n",
    "SELECT model FROM All_products\n",
    "WHERE price = (SELECT MAX(price) FROM All_products)\n",
    "GROUP BY model"
   ],
   "attachments":{
    
   },
   "metadata":{
    "datalore":{
     "node_id":"QGTHMcbeIAIflExFwzXeVW",
     "type":"MD",
     "hide_input_from_viewers":true,
     "hide_output_from_viewers":true
    }
   }
  },
  {
   "cell_type":"markdown",
   "source":[
    "25:\n",
    "SELECT maker FROM product as p\n",
    "WHERE type = 'printer'\n",
    "\n",
    "INTERSECT\n",
    "\n",
    "SELECT maker FROM product as p\n",
    "INNER JOIN pc ON pc.model = p.model\n",
    "WHERE type = 'pc'\n",
    "AND\n",
    "pc.speed IN (\n",
    "SELECT MAX(speed) FROM pc\n",
    "WHERE ram = (SELECT MIN(ram) FROM pc)\n",
    ")\n",
    "AND \n",
    "pc.ram = (SELECT MIN(ram) FROM pc) \n"
   ],
   "attachments":{
    
   },
   "metadata":{
    "datalore":{
     "node_id":"1wDszYuowfMFnskUZ05YuB",
     "type":"MD",
     "hide_input_from_viewers":true,
     "hide_output_from_viewers":true
    }
   }
  },
  {
   "cell_type":"markdown",
   "source":[
    "26:\n",
    "WITH prods as (\n",
    "SELECT pc.price, p.maker FROM pc\n",
    "INNER JOIN product as p ON p.model = pc.model\n",
    "UNION ALL\n",
    "SELECT l.price, p.maker FROM laptop as l\n",
    "INNER JOIN product as p ON p.model = l.model\n",
    ")\n",
    "SELECT AVG(price) FROM PRODS\n",
    "WHERE maker = 'a'\n"
   ],
   "attachments":{
    
   },
   "metadata":{
    "datalore":{
     "node_id":"slB85RSYzl7ZwQPmqiYIQx",
     "type":"MD",
     "hide_input_from_viewers":true,
     "hide_output_from_viewers":true
    }
   }
  },
  {
   "cell_type":"markdown",
   "source":[
    "27:\n",
    "WITH prods as (\n",
    "SELECT maker from product\n",
    "WHERE type = 'pc'\n",
    "\n",
    "INTERSECT\n",
    "\n",
    "SELECT maker from product\n",
    "WHERE type = 'printer'\n",
    ")\n",
    "\n",
    "SELECT maker, AVG(hd) FROM product\n",
    "INNER JOIN pc on product.model = pc.model\n",
    "WHERE maker in (SELECT maker FROM prods)\n",
    "GROUP BY maker\n"
   ],
   "attachments":{
    
   },
   "metadata":{
    "datalore":{
     "node_id":"b1LsuwBh5HJiVWza7dpJi7",
     "type":"MD",
     "hide_input_from_viewers":true,
     "hide_output_from_viewers":true
    }
   }
  },
  {
   "cell_type":"markdown",
   "source":[
    "28:\n",
    "SELECT count(maker) as qty FROM\n",
    "(\n",
    "SELECT maker FROM product\n",
    "GROUP BY maker\n",
    "HAVING count(model) = 1\n",
    ") as r\n"
   ],
   "attachments":{
    
   },
   "metadata":{
    "datalore":{
     "node_id":"3msQpBv6JkxejCCMjJAZ5Q",
     "type":"MD",
     "hide_input_from_viewers":true,
     "hide_output_from_viewers":true
    }
   }
  },
  {
   "cell_type":"markdown",
   "source":[
    "29:\n",
    "SELECT i.point, i.date, i.inc, o.out\n",
    "FROM Income_o as i\n",
    "LEFT JOIN Outcome_o as o ON i.point = o.point AND i.date = o.date\n",
    "UNION\n",
    "SELECT o.point, o.date, i.inc, o.out\n",
    "FROM Outcome_o as o\n",
    "LEFT JOIN Income_o as i ON i.point = o.point AND i.date = o.date\n"
   ],
   "attachments":{
    
   },
   "metadata":{
    "datalore":{
     "node_id":"MRoNFxqQdxF1QZZsnNHOUf",
     "type":"MD",
     "hide_input_from_viewers":true,
     "hide_output_from_viewers":true
    }
   }
  },
  {
   "cell_type":"markdown",
   "source":[
    "30:\n",
    "WITH SB(point, date, out, inc) AS (\n",
    "    SELECT point, date, null, inc\n",
    "        FROM income\n",
    "        UNION ALL\n",
    "        SELECT point, date, out, null\n",
    "        FROM outcome\n",
    ")\n",
    "\n",
    "SELECT point, date, SUM(out) as Outcome, SUM(inc) as Income\n",
    "FROM SB\n",
    "GROUP BY point, date"
   ],
   "attachments":{
    
   },
   "metadata":{
    "datalore":{
     "node_id":"QCXkTMt4lFa9Tl6p70z1vH",
     "type":"MD",
     "hide_input_from_viewers":true,
     "hide_output_from_viewers":true
    }
   }
  },
  {
   "cell_type":"code",
   "source":[
    
   ],
   "execution_count":null,
   "outputs":[
    
   ],
   "metadata":{
    "datalore":{
     "node_id":"ishJEyHkDbttFQdzwr2niR",
     "type":"CODE",
     "hide_input_from_viewers":true,
     "hide_output_from_viewers":true
    }
   }
  }
 ],
 "metadata":{
  "kernelspec":{
   "display_name":"Python",
   "language":"python",
   "name":"python"
  },
  "datalore":{
   "computation_mode":"JUPYTER",
   "package_manager":"pip",
   "base_environment":"default",
   "packages":[
    
   ],
   "report_row_ids":[
    "xtC6ulSU79gd8PKGjS9dUU"
   ],
   "version":2
  }
 },
 "nbformat":4,
 "nbformat_minor":4
}