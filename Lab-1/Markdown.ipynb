{
 "cells":[
  {
   "cell_type":"markdown",
   "source":[
    "# 1.Markdown cells\n",
    "* Hi! Its Main Academy?\n",
    "* All HTML tabs are supported!\n",
    "* Моя сторінка на лінкедін [Лінкедін](https:\/\/ua.linkedin.com\/)\n",
    "\n",
    "# This is heading 1\n",
    "\n",
    "## This is heading 2\n",
    "\n",
    "some gray colored text:\n",
    "> This is where we can bring qoutes and present them nicely\n",
    "\n",
    "And this is the paragraph about something very important. Even math:\n",
    "$ y_{sub} = \\sqrt{x_{sub}} $\n",
    "\n",
    "Or python code example:  \n",
    "\n",
    "```python \n",
    "import math\n",
    "def foo():\n",
    "    return \"foo\"\n",
    "```\n",
    "\n",
    "\n",
    "\n"
   ],
   "attachments":{
    
   },
   "metadata":{
    "datalore":{
     "node_id":"FllgEzX5REl3uEGHoDRnS3",
     "type":"MD",
     "hide_input_from_viewers":false,
     "hide_output_from_viewers":false
    }
   }
  },
  {
   "cell_type":"code",
   "source":[
    
   ],
   "execution_count":null,
   "outputs":[
    
   ],
   "metadata":{
    "datalore":{
     "node_id":"0luIqcFpC5GU3FaqthmynN",
     "type":"CODE",
     "hide_input_from_viewers":false,
     "hide_output_from_viewers":false
    }
   }
  }
 ],
 "metadata":{
  "kernelspec":{
   "display_name":"Python",
   "language":"python",
   "name":"python"
  },
  "datalore":{
   "version":1,
   "computation_mode":"REACTIVE",
   "package_manager":"pip",
   "base_environment":"default",
   "packages":[
    
   ]
  }
 },
 "nbformat":4,
 "nbformat_minor":4
}