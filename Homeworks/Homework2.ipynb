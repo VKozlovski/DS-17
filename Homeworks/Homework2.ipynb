{
 "cells":[
  {
   "cell_type":"markdown",
   "source":[
    "У всіх завданнях не використовувати інструкцію \"IF - ELIF - ELSE\"\n",
    "\n",
    "Завдання 1\n",
    "    Задано деякі числа A та B (int):\n",
    "        - Перевірити умову: \"Число A є додатнє\"\n",
    "        - Перевірити умову: \"Число A парне\"\n",
    "        - Перевірити умову: \"Число A кратне 13\"\n",
    "        - Перевірити умову: \"Кожне із чисел A та B - парне\"\n",
    "        - Перевірити умову: \"Кожне із чисел A та B мають однакову парність \"\n"
   ],
   "attachments":{
    
   },
   "metadata":{
    "datalore":{
     "node_id":"I79g9mCHZXctR5kz7Og5tZ",
     "type":"MD",
     "hide_input_from_viewers":false,
     "hide_output_from_viewers":false
    }
   }
  },
  {
   "cell_type":"code",
   "source":[
    "a = 26\n",
    "b = -20"
   ],
   "execution_count":7,
   "outputs":[
    
   ],
   "metadata":{
    "datalore":{
     "node_id":"5wIJMxe7oF0BbtVo2E6scB",
     "type":"CODE",
     "hide_input_from_viewers":false,
     "hide_output_from_viewers":false
    }
   }
  },
  {
   "cell_type":"code",
   "source":[
    "print(a > 0)\n",
    "print(a%2 == 0)\n",
    "print(a%13 == 0)\n",
    "print(a%2 == 0 and b%2 == 0)\n",
    "print(len(str(abs(a)))==len(str(abs(b))))"
   ],
   "execution_count":13,
   "outputs":[
    {
     "name":"stdout",
     "text":[
      "True\n",
      "True\n",
      "True\n",
      "True\n",
      "True\n"
     ],
     "output_type":"stream"
    }
   ],
   "metadata":{
    "datalore":{
     "node_id":"rKu8NddhFwLveJFbV5PIO9",
     "type":"CODE",
     "hide_input_from_viewers":false,
     "hide_output_from_viewers":false
    }
   }
  },
  {
   "cell_type":"markdown",
   "source":[
    "Завдання 2\n",
    "    Задано деякий пароль Pass (str). Перевірити чи пароль \"сильний\" \n",
    "    (пароль будемо вважати \"сильним\", якщо він складається з 8 символів (або більше) та містить символ @ або # )\n",
    "    Програма повертає True або False\n"
   ],
   "attachments":{
    
   },
   "metadata":{
    "datalore":{
     "node_id":"7K9vaRb8poPMbVUdu3LCYw",
     "type":"MD",
     "hide_input_from_viewers":false,
     "hide_output_from_viewers":false
    }
   }
  },
  {
   "cell_type":"code",
   "source":[
    "import re\n",
    "Pass = \"Main123!\"\n",
    "print(len(Pass)>=8 and re.search(r'[@#]', Pass) is not None)"
   ],
   "execution_count":74,
   "outputs":[
    {
     "name":"stdout",
     "text":[
      "False\n"
     ],
     "output_type":"stream"
    }
   ],
   "metadata":{
    "datalore":{
     "node_id":"1jTOmw1NyVvhJlv5YqVA9l",
     "type":"CODE",
     "hide_input_from_viewers":false,
     "hide_output_from_viewers":false
    }
   }
  },
  {
   "cell_type":"markdown",
   "source":[
    "Завдання 3\n",
    "    Дано деякий символ Char. Вивести символи, що ідуть перед та після символу Char в кодовій таблиці ASCII\n"
   ],
   "attachments":{
    
   },
   "metadata":{
    "datalore":{
     "node_id":"UKDhduMclbezpwxtU3nA1H",
     "type":"MD",
     "hide_input_from_viewers":false,
     "hide_output_from_viewers":false
    }
   }
  },
  {
   "cell_type":"code",
   "source":[
    "sym = 'h'\n",
    "print(chr(ord(sym)-1), chr(ord(sym)+1))"
   ],
   "execution_count":77,
   "outputs":[
    {
     "name":"stdout",
     "text":[
      "g i\n"
     ],
     "output_type":"stream"
    }
   ],
   "metadata":{
    "datalore":{
     "node_id":"4XQYLvBIywjuQh63wTJDGU",
     "type":"CODE",
     "hide_input_from_viewers":false,
     "hide_output_from_viewers":false
    }
   }
  },
  {
   "cell_type":"markdown",
   "source":[
    "Завдання 4\n",
    "    Дана стрічка, що складається із двох слів розділених пробілом.\n",
    "    Слова та порядок букв в словах поміняйте місцями.\n",
    "    (Наприклад, \"One Two\" --> \"owT enO\")"
   ],
   "attachments":{
    
   },
   "metadata":{
    "datalore":{
     "node_id":"6z5I4QSnn6zyHNg7vG1BXw",
     "type":"MD",
     "hide_input_from_viewers":false,
     "hide_output_from_viewers":false
    }
   }
  },
  {
   "cell_type":"code",
   "source":[
    "sen = \"Twenty Two\"\n",
    "senList1 = sen.split(\" \")\n",
    "senList1[0] = senList1[0][-1::-1]\n",
    "senList1[1] = senList1[1][-1::-1]\n",
    "senList1 = senList1[1] + ' ' + senList1[0]\n",
    "senList1"
   ],
   "execution_count":107,
   "outputs":[
    {
     "data":{
      "text\/plain":[
       "'owT ytnewT'"
      ]
     },
     "metadata":{
      
     },
     "output_type":"display_data"
    }
   ],
   "metadata":{
    "datalore":{
     "node_id":"F66kxndW8eudFJ1W5hAOKs",
     "type":"CODE",
     "hide_input_from_viewers":false,
     "hide_output_from_viewers":false
    }
   }
  },
  {
   "cell_type":"code",
   "source":[
    
   ],
   "execution_count":null,
   "outputs":[
    
   ],
   "metadata":{
    "datalore":{
     "node_id":"NqNjAYDqn2NabdahOjoWFm",
     "type":"CODE",
     "hide_input_from_viewers":false,
     "hide_output_from_viewers":false
    }
   }
  }
 ],
 "metadata":{
  "kernelspec":{
   "display_name":"Python",
   "language":"python",
   "name":"python"
  },
  "datalore":{
   "version":1,
   "computation_mode":"JUPYTER",
   "package_manager":"pip",
   "base_environment":"default",
   "packages":[
    
   ]
  }
 },
 "nbformat":4,
 "nbformat_minor":4
}