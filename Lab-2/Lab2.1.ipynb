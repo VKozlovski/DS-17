{
 "cells": [
  {
   "cell_type": "markdown",
   "metadata": {},
   "source": [
    "___\n",
    "\n",
    "<a href='https://mainacademy.ua/'> <img src='https://mainacademy.ua/wp-content/uploads/2019/03/logo-main.png' alt = 'Хмм, щось з інтернетом'/></a>\n",
    "___\n",
    "\n",
    "# Module 2: Basic Python"
   ]
  },
  {
   "cell_type": "markdown",
   "metadata": {},
   "source": [
    "## Lab work 2.1\n",
    "\n"
   ]
  },
  {
   "cell_type": "markdown",
   "metadata": {},
   "source": [
    "#### Мета: \n",
    "\n",
    "* навчитися працювати із основними типами та структурами даних в Python;\n",
    "* ознайомитися із базовими алгоритмами;"
   ]
  },
  {
   "cell_type": "markdown",
   "metadata": {},
   "source": [
    "#### Завдання 1"
   ]
  },
  {
   "cell_type": "markdown",
   "metadata": {},
   "source": [
    "Обчислити площу трикутника, коли відома сторона та проведена висота до неї"
   ]
  },
  {
   "cell_type": "code",
   "execution_count": 16,
   "metadata": {},
   "outputs": [
    {
     "name": "stdout",
     "output_type": "stream",
     "text": [
      "Довжина сторони: 5\n",
      "Довжина висоти: 2\n",
      "Площа трикутника: 5.0\n"
     ]
    }
   ],
   "source": [
    "a = int(input('Довжина сторони: '))\n",
    "h = int(input('Довжина висоти: '))\n",
    "\n",
    "s = a*h/2\n",
    "\n",
    "print('Площа трикутника: ' + str(s))"
   ]
  },
  {
   "cell_type": "markdown",
   "metadata": {},
   "source": [
    "#### Завдання 2"
   ]
  },
  {
   "cell_type": "markdown",
   "metadata": {},
   "source": [
    "Дано трицифрове число. Виведіть окремо кожну цифру числа та суми цифр число\n",
    "\n",
    "Реалізуйте завдання двома способами (використовуючи стрічки та оператори `%`, `//`)"
   ]
  },
  {
   "cell_type": "code",
   "execution_count": 17,
   "metadata": {},
   "outputs": [
    {
     "name": "stdout",
     "output_type": "stream",
     "text": [
      "Ваше число: 781\n",
      "Перша цифра: 7\n",
      "Друга цифра: 8\n",
      "Третя цифра: 1\n",
      "Сума цифр: 16\n"
     ]
    }
   ],
   "source": [
    "N = input('Ваше число: ')\n",
    "\n",
    "firstL = N[0]\n",
    "secondL = N[1]\n",
    "thirdL = N[2]\n",
    "\n",
    "print('Перша цифра: ' + firstL)\n",
    "print('Друга цифра: ' + secondL)\n",
    "print('Третя цифра: ' + thirdL)\n",
    "sumL = (int(firstL) + int(secondL) + int(thirdL))\n",
    "print('Сума цифр: ' + str(sumL))\n",
    "\n"
   ]
  },
  {
   "cell_type": "code",
   "execution_count": 18,
   "metadata": {},
   "outputs": [
    {
     "name": "stdout",
     "output_type": "stream",
     "text": [
      "Ваше число: 781\n",
      "Перша цифра: 7\n",
      "Друга цифра: 8\n",
      "Третя цифра: 1\n",
      "Сума цифр: 16\n"
     ]
    }
   ],
   "source": [
    "N = int(input('Ваше число: '))\n",
    "\n",
    "firstS = N//100\n",
    "secondS = N%100//10\n",
    "thirdS = N%10\n",
    "\n",
    "\n",
    "print('Перша цифра: ' + str(firstS))\n",
    "print('Друга цифра: ' + str(secondS))\n",
    "print('Третя цифра: ' + str(thirdS))\n",
    "sumS = (int(firstS) + int(secondS) + int(thirdS))\n",
    "print('Сума цифр: ' + str(sumS))\n",
    "\n",
    "\n"
   ]
  },
  {
   "cell_type": "markdown",
   "metadata": {},
   "source": [
    "#### Завдання 3"
   ]
  },
  {
   "cell_type": "markdown",
   "metadata": {},
   "source": [
    "Дано речення (стрічка). \n",
    "* Розбийте речення по словах і помістіть їх у список. \n",
    "* Виведіть кількість слів у речені.\n",
    "* Утворіть нове речення, що складається з першого та останнього слова із початкового речення."
   ]
  },
  {
   "cell_type": "code",
   "execution_count": 9,
   "metadata": {},
   "outputs": [],
   "source": [
    "sentence = 'My favourite tutor in academy is Ihor'"
   ]
  },
  {
   "cell_type": "code",
   "execution_count": 10,
   "metadata": {},
   "outputs": [
    {
     "name": "stdout",
     "output_type": "stream",
     "text": [
      "['My', 'favourite', 'tutor', 'in', 'academy', 'is', 'Ihor']\n"
     ]
    },
    {
     "data": {
      "text/plain": [
       "list"
      ]
     },
     "execution_count": 10,
     "metadata": {},
     "output_type": "execute_result"
    }
   ],
   "source": [
    "sentList = sentence.split(' ')\n",
    "print(sentList)\n",
    "type(sentList)"
   ]
  },
  {
   "cell_type": "code",
   "execution_count": 11,
   "metadata": {},
   "outputs": [
    {
     "data": {
      "text/plain": [
       "7"
      ]
     },
     "execution_count": 11,
     "metadata": {},
     "output_type": "execute_result"
    }
   ],
   "source": [
    "len(sentList)"
   ]
  },
  {
   "cell_type": "code",
   "execution_count": 12,
   "metadata": {},
   "outputs": [
    {
     "data": {
      "text/plain": [
       "'My Ihor'"
      ]
     },
     "execution_count": 12,
     "metadata": {},
     "output_type": "execute_result"
    }
   ],
   "source": [
    "newSentence = sentList[0] + ' ' + sentList[-1]\n",
    "newSentence"
   ]
  },
  {
   "cell_type": "markdown",
   "metadata": {},
   "source": [
    "#### Завдання 4"
   ]
  },
  {
   "cell_type": "markdown",
   "metadata": {},
   "source": [
    "Перевірте, чи справджується формула: $$ sin^2x + cos^2x = 1$$\n",
    "\n",
    "Напишіть код, що реалізує цю формулу. Нагадую, що тригонометричні функції приймають аргументи в радіанній мірі"
   ]
  },
  {
   "cell_type": "code",
   "execution_count": 19,
   "metadata": {},
   "outputs": [
    {
     "name": "stdout",
     "output_type": "stream",
     "text": [
      "Введіть х: 2\n",
      "1.0\n"
     ]
    }
   ],
   "source": [
    "x = int(input('Введіть х: '))\n",
    "\n",
    "import math\n",
    "\n",
    "print(math.sin(x)**2 + math.cos(x)**2)\n",
    "\n"
   ]
  },
  {
   "cell_type": "markdown",
   "metadata": {},
   "source": [
    "#### Завдання 5"
   ]
  },
  {
   "cell_type": "markdown",
   "metadata": {},
   "source": [
    "Напишіть програму для обчислення коренів квадратного рівняння.\n",
    "\n",
    "Нагадую, що `n`-го степеня має `n` коренів. (Корені можуть бути комплексні)"
   ]
  },
  {
   "cell_type": "code",
   "execution_count": 22,
   "metadata": {},
   "outputs": [
    {
     "name": "stdout",
     "output_type": "stream",
     "text": [
      "Введіть параметр a: 5\n",
      "Введіть параметр b: -8\n",
      "Введіть параметр c: 3\n",
      "Розв'язок 1: 1.0\n",
      "Розв'язок 2: 0.6\n"
     ]
    }
   ],
   "source": [
    "import cmath\n",
    "a = int(input('Введіть параметр a: '))\n",
    "b = int(input('Введіть параметр b: '))\n",
    "c = int(input('Введіть параметр c: '))\n",
    "\n",
    "d = b**2 - 4*a*c\n",
    "x1 = ((-1)*b+cmath.sqrt(d))/(2*a)\n",
    "x2 = ((-1)*b-cmath.sqrt(d))/(2*a)\n",
    "if x1.imag == 0:\n",
    "    x1 = x1.real\n",
    "if x2.imag == 0:\n",
    "    x2 = x2.real\n",
    "\n",
    "print(\"Розв'язок 1: \" + str(x1))\n",
    "print(\"Розв'язок 2: \" + str(x2))"
   ]
  },
  {
   "cell_type": "markdown",
   "metadata": {},
   "source": [
    "#### Завдання 6"
   ]
  },
  {
   "cell_type": "markdown",
   "metadata": {},
   "source": [
    "Напишіть програму, що виводить речення: <i>\"Діаметр планети `Planet` дорівнює` Diament`\"</i>, \n",
    "\n",
    "де `Planet` та `Diament` вводить користувач"
   ]
  },
  {
   "cell_type": "code",
   "execution_count": 15,
   "metadata": {},
   "outputs": [
    {
     "name": "stdout",
     "output_type": "stream",
     "text": [
      "Назва планети: Земля\n",
      "Діаметр планети: 362781\n",
      "Діаметр планети Земля дорівнює 362781\n"
     ]
    }
   ],
   "source": [
    "Planet = input('Назва планети: ')\n",
    "Diametr = input('Діаметр планети: ')\n",
    "\n",
    "print('Діаметр планети ' + Planet + ' дорівнює ' + Diametr)"
   ]
  },
  {
   "cell_type": "code",
   "execution_count": null,
   "metadata": {},
   "outputs": [],
   "source": []
  }
 ],
 "metadata": {
  "kernelspec": {
   "display_name": "Python 3 (ipykernel)",
   "language": "python",
   "name": "python3"
  },
  "language_info": {
   "codemirror_mode": {
    "name": "ipython",
    "version": 3
   },
   "file_extension": ".py",
   "mimetype": "text/x-python",
   "name": "python",
   "nbconvert_exporter": "python",
   "pygments_lexer": "ipython3",
   "version": "3.10.8"
  }
 },
 "nbformat": 4,
 "nbformat_minor": 2
}
