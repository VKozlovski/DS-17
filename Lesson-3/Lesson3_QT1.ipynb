{
 "cells":[
  {
   "cell_type":"code",
   "source":[
    "#По двох введених катетах визначити довжину гіпотенузи\n",
    "import math\n",
    "print('Введіть довжину першого катета:')\n",
    "a = input()\n",
    "print('Введіть довжину другого катета:')\n",
    "b = input()\n",
    "c = math.sqrt(int(a)**2 + int(b)**2)\n",
    "print('Довжина гіпотенузи = ' + str(c))"
   ],
   "execution_count":1,
   "outputs":[
    {
     "name":"stdout",
     "text":[
      "Введіть довжину першого катета:\n",
      " 7\n",
      "Введіть довжину другого катета:\n",
      " 9\n",
      "Довжина гіпотенузи = 11.40175425099138\n"
     ],
     "output_type":"stream"
    }
   ],
   "metadata":{
    "datalore":{
     "node_id":"Qcc9FXxItyeQUCgeouFn5W",
     "type":"CODE",
     "hide_input_from_viewers":false,
     "hide_output_from_viewers":false
    }
   }
  },
  {
   "cell_type":"code",
   "source":[
    "#визначити на яких місцях введені букви і скільки між ними букв\n",
    "print('Введіть першу букву:')\n",
    "firstL = input()\n",
    "print('Введіть друку букву:')\n",
    "secondL = input()\n",
    "firstPos = ord(firstL.lower())%1071%96 #переводимо букву в нижній регістр визначаємо порядковий номер для кирилиці або латиниці\n",
    "secondPos = ord(secondL.lower())%1071%96\n",
    "if abs(firstPos - secondPos) == 0:\n",
    "    between = abs(firstPos - secondPos)\n",
    "else:\n",
    "    between = abs(firstPos - secondPos)-1\n",
    "print('Порядковий номер першої літери ' + firstL + ' = ' + str(firstPos))\n",
    "print('Порядковий номер першої літери ' + secondL + ' = ' + str(secondPos))\n",
    "print('Букв між літерами: ' + str(between)) #визначаємо різницю між позиціями та беремо модуль. після цього віднімаємо 1, щоб дізнатись скільки букв між введеними"
   ],
   "execution_count":4,
   "outputs":[
    {
     "name":"stdout",
     "text":[
      "Введіть першу букву:\n",
      " a\n",
      "Введіть друку букву:\n",
      " c\n",
      "Порядковий номер першої літери a = 1\n",
      "Порядковий номер першої літери c = 3\n",
      "Букв між літерами: 1\n"
     ],
     "output_type":"stream"
    }
   ],
   "metadata":{
    "datalore":{
     "node_id":"0dRwYet8O8eAUyPTu2bweM",
     "type":"CODE",
     "hide_input_from_viewers":false,
     "hide_output_from_viewers":false
    }
   }
  }
 ],
 "metadata":{
  "kernelspec":{
   "display_name":"Python",
   "language":"python",
   "name":"python"
  },
  "datalore":{
   "version":1,
   "computation_mode":"JUPYTER",
   "package_manager":"pip",
   "base_environment":"default",
   "packages":[
    
   ]
  }
 },
 "nbformat":4,
 "nbformat_minor":4
}